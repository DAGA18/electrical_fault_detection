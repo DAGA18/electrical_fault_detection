{
  "cells": [
    {
      "cell_type": "markdown",
      "metadata": {
        "id": "W3EatTY4VQ4S"
      },
      "source": [
        "# Electrical Fault detection"
      ]
    },
    {
      "cell_type": "markdown",
      "metadata": {
        "id": "yOPnc8tVVg_a"
      },
      "source": [
        "We have to predict faults in a power system."
      ]
    },
    {
      "cell_type": "markdown",
      "metadata": {
        "id": "DYUvjaFqVtKh"
      },
      "source": [
        "# Dataset Desciption\n",
        "\n",
        "The dataset contains one file \n",
        "\n",
        "detect_dataset.csv\n",
        "\n",
        "shape of the dataset is (12001, 9)\n",
        "\n",
        "# Columns in dataset\n",
        "\n",
        "there are seven columns\n",
        "\n",
        "'Output (S)',\n",
        "\n",
        "'Ia',\n",
        "\n",
        "'Ib',\n",
        "\n",
        "'Ic',\n",
        "\n",
        "'Va', \n",
        "\n",
        "'Vb', \n",
        "\n",
        "'Vc', \n",
        "\n",
        "'Unnamed: 7',\n",
        "\n",
        "'Unnamed: 8'\n",
        "\n",
        "Outputs - 0 (No-fault) or 1(Fault is present)"
      ]
    },
    {
      "cell_type": "code",
      "execution_count": 1,
      "metadata": {
        "id": "onJmI6AzieJL"
      },
      "outputs": [],
      "source": [
        "# Importing Necessary Libraries\n",
        "import pandas as pd\n",
        "import numpy as np\n",
        "import matplotlib.pyplot as plt\n",
        "import seaborn as sns\n",
        "from scipy.spatial.distance import pdist \n",
        "from scipy.cluster.hierarchy import linkage, dendrogram"
      ]
    },
    {
      "cell_type": "code",
      "execution_count": 2,
      "metadata": {
        "colab": {
          "base_uri": "https://localhost:8080/",
          "resources": {
            "http://localhost:8080/nbextensions/google.colab/files.js": {
              "data": "Ly8gQ29weXJpZ2h0IDIwMTcgR29vZ2xlIExMQwovLwovLyBMaWNlbnNlZCB1bmRlciB0aGUgQXBhY2hlIExpY2Vuc2UsIFZlcnNpb24gMi4wICh0aGUgIkxpY2Vuc2UiKTsKLy8geW91IG1heSBub3QgdXNlIHRoaXMgZmlsZSBleGNlcHQgaW4gY29tcGxpYW5jZSB3aXRoIHRoZSBMaWNlbnNlLgovLyBZb3UgbWF5IG9idGFpbiBhIGNvcHkgb2YgdGhlIExpY2Vuc2UgYXQKLy8KLy8gICAgICBodHRwOi8vd3d3LmFwYWNoZS5vcmcvbGljZW5zZXMvTElDRU5TRS0yLjAKLy8KLy8gVW5sZXNzIHJlcXVpcmVkIGJ5IGFwcGxpY2FibGUgbGF3IG9yIGFncmVlZCB0byBpbiB3cml0aW5nLCBzb2Z0d2FyZQovLyBkaXN0cmlidXRlZCB1bmRlciB0aGUgTGljZW5zZSBpcyBkaXN0cmlidXRlZCBvbiBhbiAiQVMgSVMiIEJBU0lTLAovLyBXSVRIT1VUIFdBUlJBTlRJRVMgT1IgQ09ORElUSU9OUyBPRiBBTlkgS0lORCwgZWl0aGVyIGV4cHJlc3Mgb3IgaW1wbGllZC4KLy8gU2VlIHRoZSBMaWNlbnNlIGZvciB0aGUgc3BlY2lmaWMgbGFuZ3VhZ2UgZ292ZXJuaW5nIHBlcm1pc3Npb25zIGFuZAovLyBsaW1pdGF0aW9ucyB1bmRlciB0aGUgTGljZW5zZS4KCi8qKgogKiBAZmlsZW92ZXJ2aWV3IEhlbHBlcnMgZm9yIGdvb2dsZS5jb2xhYiBQeXRob24gbW9kdWxlLgogKi8KKGZ1bmN0aW9uKHNjb3BlKSB7CmZ1bmN0aW9uIHNwYW4odGV4dCwgc3R5bGVBdHRyaWJ1dGVzID0ge30pIHsKICBjb25zdCBlbGVtZW50ID0gZG9jdW1lbnQuY3JlYXRlRWxlbWVudCgnc3BhbicpOwogIGVsZW1lbnQudGV4dENvbnRlbnQgPSB0ZXh0OwogIGZvciAoY29uc3Qga2V5IG9mIE9iamVjdC5rZXlzKHN0eWxlQXR0cmlidXRlcykpIHsKICAgIGVsZW1lbnQuc3R5bGVba2V5XSA9IHN0eWxlQXR0cmlidXRlc1trZXldOwogIH0KICByZXR1cm4gZWxlbWVudDsKfQoKLy8gTWF4IG51bWJlciBvZiBieXRlcyB3aGljaCB3aWxsIGJlIHVwbG9hZGVkIGF0IGEgdGltZS4KY29uc3QgTUFYX1BBWUxPQURfU0laRSA9IDEwMCAqIDEwMjQ7CgpmdW5jdGlvbiBfdXBsb2FkRmlsZXMoaW5wdXRJZCwgb3V0cHV0SWQpIHsKICBjb25zdCBzdGVwcyA9IHVwbG9hZEZpbGVzU3RlcChpbnB1dElkLCBvdXRwdXRJZCk7CiAgY29uc3Qgb3V0cHV0RWxlbWVudCA9IGRvY3VtZW50LmdldEVsZW1lbnRCeUlkKG91dHB1dElkKTsKICAvLyBDYWNoZSBzdGVwcyBvbiB0aGUgb3V0cHV0RWxlbWVudCB0byBtYWtlIGl0IGF2YWlsYWJsZSBmb3IgdGhlIG5leHQgY2FsbAogIC8vIHRvIHVwbG9hZEZpbGVzQ29udGludWUgZnJvbSBQeXRob24uCiAgb3V0cHV0RWxlbWVudC5zdGVwcyA9IHN0ZXBzOwoKICByZXR1cm4gX3VwbG9hZEZpbGVzQ29udGludWUob3V0cHV0SWQpOwp9CgovLyBUaGlzIGlzIHJvdWdobHkgYW4gYXN5bmMgZ2VuZXJhdG9yIChub3Qgc3VwcG9ydGVkIGluIHRoZSBicm93c2VyIHlldCksCi8vIHdoZXJlIHRoZXJlIGFyZSBtdWx0aXBsZSBhc3luY2hyb25vdXMgc3RlcHMgYW5kIHRoZSBQeXRob24gc2lkZSBpcyBnb2luZwovLyB0byBwb2xsIGZvciBjb21wbGV0aW9uIG9mIGVhY2ggc3RlcC4KLy8gVGhpcyB1c2VzIGEgUHJvbWlzZSB0byBibG9jayB0aGUgcHl0aG9uIHNpZGUgb24gY29tcGxldGlvbiBvZiBlYWNoIHN0ZXAsCi8vIHRoZW4gcGFzc2VzIHRoZSByZXN1bHQgb2YgdGhlIHByZXZpb3VzIHN0ZXAgYXMgdGhlIGlucHV0IHRvIHRoZSBuZXh0IHN0ZXAuCmZ1bmN0aW9uIF91cGxvYWRGaWxlc0NvbnRpbnVlKG91dHB1dElkKSB7CiAgY29uc3Qgb3V0cHV0RWxlbWVudCA9IGRvY3VtZW50LmdldEVsZW1lbnRCeUlkKG91dHB1dElkKTsKICBjb25zdCBzdGVwcyA9IG91dHB1dEVsZW1lbnQuc3RlcHM7CgogIGNvbnN0IG5leHQgPSBzdGVwcy5uZXh0KG91dHB1dEVsZW1lbnQubGFzdFByb21pc2VWYWx1ZSk7CiAgcmV0dXJuIFByb21pc2UucmVzb2x2ZShuZXh0LnZhbHVlLnByb21pc2UpLnRoZW4oKHZhbHVlKSA9PiB7CiAgICAvLyBDYWNoZSB0aGUgbGFzdCBwcm9taXNlIHZhbHVlIHRvIG1ha2UgaXQgYXZhaWxhYmxlIHRvIHRoZSBuZXh0CiAgICAvLyBzdGVwIG9mIHRoZSBnZW5lcmF0b3IuCiAgICBvdXRwdXRFbGVtZW50Lmxhc3RQcm9taXNlVmFsdWUgPSB2YWx1ZTsKICAgIHJldHVybiBuZXh0LnZhbHVlLnJlc3BvbnNlOwogIH0pOwp9CgovKioKICogR2VuZXJhdG9yIGZ1bmN0aW9uIHdoaWNoIGlzIGNhbGxlZCBiZXR3ZWVuIGVhY2ggYXN5bmMgc3RlcCBvZiB0aGUgdXBsb2FkCiAqIHByb2Nlc3MuCiAqIEBwYXJhbSB7c3RyaW5nfSBpbnB1dElkIEVsZW1lbnQgSUQgb2YgdGhlIGlucHV0IGZpbGUgcGlja2VyIGVsZW1lbnQuCiAqIEBwYXJhbSB7c3RyaW5nfSBvdXRwdXRJZCBFbGVtZW50IElEIG9mIHRoZSBvdXRwdXQgZGlzcGxheS4KICogQHJldHVybiB7IUl0ZXJhYmxlPCFPYmplY3Q+fSBJdGVyYWJsZSBvZiBuZXh0IHN0ZXBzLgogKi8KZnVuY3Rpb24qIHVwbG9hZEZpbGVzU3RlcChpbnB1dElkLCBvdXRwdXRJZCkgewogIGNvbnN0IGlucHV0RWxlbWVudCA9IGRvY3VtZW50LmdldEVsZW1lbnRCeUlkKGlucHV0SWQpOwogIGlucHV0RWxlbWVudC5kaXNhYmxlZCA9IGZhbHNlOwoKICBjb25zdCBvdXRwdXRFbGVtZW50ID0gZG9jdW1lbnQuZ2V0RWxlbWVudEJ5SWQob3V0cHV0SWQpOwogIG91dHB1dEVsZW1lbnQuaW5uZXJIVE1MID0gJyc7CgogIGNvbnN0IHBpY2tlZFByb21pc2UgPSBuZXcgUHJvbWlzZSgocmVzb2x2ZSkgPT4gewogICAgaW5wdXRFbGVtZW50LmFkZEV2ZW50TGlzdGVuZXIoJ2NoYW5nZScsIChlKSA9PiB7CiAgICAgIHJlc29sdmUoZS50YXJnZXQuZmlsZXMpOwogICAgfSk7CiAgfSk7CgogIGNvbnN0IGNhbmNlbCA9IGRvY3VtZW50LmNyZWF0ZUVsZW1lbnQoJ2J1dHRvbicpOwogIGlucHV0RWxlbWVudC5wYXJlbnRFbGVtZW50LmFwcGVuZENoaWxkKGNhbmNlbCk7CiAgY2FuY2VsLnRleHRDb250ZW50ID0gJ0NhbmNlbCB1cGxvYWQnOwogIGNvbnN0IGNhbmNlbFByb21pc2UgPSBuZXcgUHJvbWlzZSgocmVzb2x2ZSkgPT4gewogICAgY2FuY2VsLm9uY2xpY2sgPSAoKSA9PiB7CiAgICAgIHJlc29sdmUobnVsbCk7CiAgICB9OwogIH0pOwoKICAvLyBXYWl0IGZvciB0aGUgdXNlciB0byBwaWNrIHRoZSBmaWxlcy4KICBjb25zdCBmaWxlcyA9IHlpZWxkIHsKICAgIHByb21pc2U6IFByb21pc2UucmFjZShbcGlja2VkUHJvbWlzZSwgY2FuY2VsUHJvbWlzZV0pLAogICAgcmVzcG9uc2U6IHsKICAgICAgYWN0aW9uOiAnc3RhcnRpbmcnLAogICAgfQogIH07CgogIGNhbmNlbC5yZW1vdmUoKTsKCiAgLy8gRGlzYWJsZSB0aGUgaW5wdXQgZWxlbWVudCBzaW5jZSBmdXJ0aGVyIHBpY2tzIGFyZSBub3QgYWxsb3dlZC4KICBpbnB1dEVsZW1lbnQuZGlzYWJsZWQgPSB0cnVlOwoKICBpZiAoIWZpbGVzKSB7CiAgICByZXR1cm4gewogICAgICByZXNwb25zZTogewogICAgICAgIGFjdGlvbjogJ2NvbXBsZXRlJywKICAgICAgfQogICAgfTsKICB9CgogIGZvciAoY29uc3QgZmlsZSBvZiBmaWxlcykgewogICAgY29uc3QgbGkgPSBkb2N1bWVudC5jcmVhdGVFbGVtZW50KCdsaScpOwogICAgbGkuYXBwZW5kKHNwYW4oZmlsZS5uYW1lLCB7Zm9udFdlaWdodDogJ2JvbGQnfSkpOwogICAgbGkuYXBwZW5kKHNwYW4oCiAgICAgICAgYCgke2ZpbGUudHlwZSB8fCAnbi9hJ30pIC0gJHtmaWxlLnNpemV9IGJ5dGVzLCBgICsKICAgICAgICBgbGFzdCBtb2RpZmllZDogJHsKICAgICAgICAgICAgZmlsZS5sYXN0TW9kaWZpZWREYXRlID8gZmlsZS5sYXN0TW9kaWZpZWREYXRlLnRvTG9jYWxlRGF0ZVN0cmluZygpIDoKICAgICAgICAgICAgICAgICAgICAgICAgICAgICAgICAgICAgJ24vYSd9IC0gYCkpOwogICAgY29uc3QgcGVyY2VudCA9IHNwYW4oJzAlIGRvbmUnKTsKICAgIGxpLmFwcGVuZENoaWxkKHBlcmNlbnQpOwoKICAgIG91dHB1dEVsZW1lbnQuYXBwZW5kQ2hpbGQobGkpOwoKICAgIGNvbnN0IGZpbGVEYXRhUHJvbWlzZSA9IG5ldyBQcm9taXNlKChyZXNvbHZlKSA9PiB7CiAgICAgIGNvbnN0IHJlYWRlciA9IG5ldyBGaWxlUmVhZGVyKCk7CiAgICAgIHJlYWRlci5vbmxvYWQgPSAoZSkgPT4gewogICAgICAgIHJlc29sdmUoZS50YXJnZXQucmVzdWx0KTsKICAgICAgfTsKICAgICAgcmVhZGVyLnJlYWRBc0FycmF5QnVmZmVyKGZpbGUpOwogICAgfSk7CiAgICAvLyBXYWl0IGZvciB0aGUgZGF0YSB0byBiZSByZWFkeS4KICAgIGxldCBmaWxlRGF0YSA9IHlpZWxkIHsKICAgICAgcHJvbWlzZTogZmlsZURhdGFQcm9taXNlLAogICAgICByZXNwb25zZTogewogICAgICAgIGFjdGlvbjogJ2NvbnRpbnVlJywKICAgICAgfQogICAgfTsKCiAgICAvLyBVc2UgYSBjaHVua2VkIHNlbmRpbmcgdG8gYXZvaWQgbWVzc2FnZSBzaXplIGxpbWl0cy4gU2VlIGIvNjIxMTU2NjAuCiAgICBsZXQgcG9zaXRpb24gPSAwOwogICAgZG8gewogICAgICBjb25zdCBsZW5ndGggPSBNYXRoLm1pbihmaWxlRGF0YS5ieXRlTGVuZ3RoIC0gcG9zaXRpb24sIE1BWF9QQVlMT0FEX1NJWkUpOwogICAgICBjb25zdCBjaHVuayA9IG5ldyBVaW50OEFycmF5KGZpbGVEYXRhLCBwb3NpdGlvbiwgbGVuZ3RoKTsKICAgICAgcG9zaXRpb24gKz0gbGVuZ3RoOwoKICAgICAgY29uc3QgYmFzZTY0ID0gYnRvYShTdHJpbmcuZnJvbUNoYXJDb2RlLmFwcGx5KG51bGwsIGNodW5rKSk7CiAgICAgIHlpZWxkIHsKICAgICAgICByZXNwb25zZTogewogICAgICAgICAgYWN0aW9uOiAnYXBwZW5kJywKICAgICAgICAgIGZpbGU6IGZpbGUubmFtZSwKICAgICAgICAgIGRhdGE6IGJhc2U2NCwKICAgICAgICB9LAogICAgICB9OwoKICAgICAgbGV0IHBlcmNlbnREb25lID0gZmlsZURhdGEuYnl0ZUxlbmd0aCA9PT0gMCA/CiAgICAgICAgICAxMDAgOgogICAgICAgICAgTWF0aC5yb3VuZCgocG9zaXRpb24gLyBmaWxlRGF0YS5ieXRlTGVuZ3RoKSAqIDEwMCk7CiAgICAgIHBlcmNlbnQudGV4dENvbnRlbnQgPSBgJHtwZXJjZW50RG9uZX0lIGRvbmVgOwoKICAgIH0gd2hpbGUgKHBvc2l0aW9uIDwgZmlsZURhdGEuYnl0ZUxlbmd0aCk7CiAgfQoKICAvLyBBbGwgZG9uZS4KICB5aWVsZCB7CiAgICByZXNwb25zZTogewogICAgICBhY3Rpb246ICdjb21wbGV0ZScsCiAgICB9CiAgfTsKfQoKc2NvcGUuZ29vZ2xlID0gc2NvcGUuZ29vZ2xlIHx8IHt9OwpzY29wZS5nb29nbGUuY29sYWIgPSBzY29wZS5nb29nbGUuY29sYWIgfHwge307CnNjb3BlLmdvb2dsZS5jb2xhYi5fZmlsZXMgPSB7CiAgX3VwbG9hZEZpbGVzLAogIF91cGxvYWRGaWxlc0NvbnRpbnVlLAp9Owp9KShzZWxmKTsK",
              "ok": true,
              "headers": [
                [
                  "content-type",
                  "application/javascript"
                ]
              ],
              "status": 200,
              "status_text": "OK"
            }
          },
          "height": 74
        },
        "id": "iLNjmv7vlvNp",
        "outputId": "c3a16239-4127-4007-af72-3eb7f200afca"
      },
      "outputs": [
        {
          "output_type": "display_data",
          "data": {
            "text/html": [
              "\n",
              "     <input type=\"file\" id=\"files-c9ce3836-fb20-4f6e-b83e-d6fa393f6a23\" name=\"files[]\" multiple disabled\n",
              "        style=\"border:none\" />\n",
              "     <output id=\"result-c9ce3836-fb20-4f6e-b83e-d6fa393f6a23\">\n",
              "      Upload widget is only available when the cell has been executed in the\n",
              "      current browser session. Please rerun this cell to enable.\n",
              "      </output>\n",
              "      <script src=\"/nbextensions/google.colab/files.js\"></script> "
            ],
            "text/plain": [
              "<IPython.core.display.HTML object>"
            ]
          },
          "metadata": {}
        },
        {
          "output_type": "stream",
          "name": "stdout",
          "text": [
            "Saving detect_dataset.csv to detect_dataset.csv\n"
          ]
        }
      ],
      "source": [
        "from google.colab import files\n",
        "uploaded = files.upload()\n",
        "df=pd.read_csv(\"detect_dataset.csv\")"
      ]
    },
    {
      "cell_type": "code",
      "execution_count": 3,
      "metadata": {
        "colab": {
          "base_uri": "https://localhost:8080/",
          "height": 206
        },
        "id": "yckoKHYilvJT",
        "outputId": "1586d0b8-27fe-40c1-86ad-6d20f677f372"
      },
      "outputs": [
        {
          "output_type": "execute_result",
          "data": {
            "text/html": [
              "\n",
              "  <div id=\"df-bf4ffd74-58d1-4bd3-9e97-f8a35f4788ba\">\n",
              "    <div class=\"colab-df-container\">\n",
              "      <div>\n",
              "<style scoped>\n",
              "    .dataframe tbody tr th:only-of-type {\n",
              "        vertical-align: middle;\n",
              "    }\n",
              "\n",
              "    .dataframe tbody tr th {\n",
              "        vertical-align: top;\n",
              "    }\n",
              "\n",
              "    .dataframe thead th {\n",
              "        text-align: right;\n",
              "    }\n",
              "</style>\n",
              "<table border=\"1\" class=\"dataframe\">\n",
              "  <thead>\n",
              "    <tr style=\"text-align: right;\">\n",
              "      <th></th>\n",
              "      <th>Output (S)</th>\n",
              "      <th>Ia</th>\n",
              "      <th>Ib</th>\n",
              "      <th>Ic</th>\n",
              "      <th>Va</th>\n",
              "      <th>Vb</th>\n",
              "      <th>Vc</th>\n",
              "      <th>Unnamed: 7</th>\n",
              "      <th>Unnamed: 8</th>\n",
              "    </tr>\n",
              "  </thead>\n",
              "  <tbody>\n",
              "    <tr>\n",
              "      <th>0</th>\n",
              "      <td>0</td>\n",
              "      <td>-170.472196</td>\n",
              "      <td>9.219613</td>\n",
              "      <td>161.252583</td>\n",
              "      <td>0.054490</td>\n",
              "      <td>-0.659921</td>\n",
              "      <td>0.605431</td>\n",
              "      <td>NaN</td>\n",
              "      <td>NaN</td>\n",
              "    </tr>\n",
              "    <tr>\n",
              "      <th>1</th>\n",
              "      <td>0</td>\n",
              "      <td>-122.235754</td>\n",
              "      <td>6.168667</td>\n",
              "      <td>116.067087</td>\n",
              "      <td>0.102000</td>\n",
              "      <td>-0.628612</td>\n",
              "      <td>0.526202</td>\n",
              "      <td>NaN</td>\n",
              "      <td>NaN</td>\n",
              "    </tr>\n",
              "    <tr>\n",
              "      <th>2</th>\n",
              "      <td>0</td>\n",
              "      <td>-90.161474</td>\n",
              "      <td>3.813632</td>\n",
              "      <td>86.347841</td>\n",
              "      <td>0.141026</td>\n",
              "      <td>-0.605277</td>\n",
              "      <td>0.464251</td>\n",
              "      <td>NaN</td>\n",
              "      <td>NaN</td>\n",
              "    </tr>\n",
              "    <tr>\n",
              "      <th>3</th>\n",
              "      <td>0</td>\n",
              "      <td>-79.904916</td>\n",
              "      <td>2.398803</td>\n",
              "      <td>77.506112</td>\n",
              "      <td>0.156272</td>\n",
              "      <td>-0.602235</td>\n",
              "      <td>0.445963</td>\n",
              "      <td>NaN</td>\n",
              "      <td>NaN</td>\n",
              "    </tr>\n",
              "    <tr>\n",
              "      <th>4</th>\n",
              "      <td>0</td>\n",
              "      <td>-63.885255</td>\n",
              "      <td>0.590667</td>\n",
              "      <td>63.294587</td>\n",
              "      <td>0.180451</td>\n",
              "      <td>-0.591501</td>\n",
              "      <td>0.411050</td>\n",
              "      <td>NaN</td>\n",
              "      <td>NaN</td>\n",
              "    </tr>\n",
              "  </tbody>\n",
              "</table>\n",
              "</div>\n",
              "      <button class=\"colab-df-convert\" onclick=\"convertToInteractive('df-bf4ffd74-58d1-4bd3-9e97-f8a35f4788ba')\"\n",
              "              title=\"Convert this dataframe to an interactive table.\"\n",
              "              style=\"display:none;\">\n",
              "        \n",
              "  <svg xmlns=\"http://www.w3.org/2000/svg\" height=\"24px\"viewBox=\"0 0 24 24\"\n",
              "       width=\"24px\">\n",
              "    <path d=\"M0 0h24v24H0V0z\" fill=\"none\"/>\n",
              "    <path d=\"M18.56 5.44l.94 2.06.94-2.06 2.06-.94-2.06-.94-.94-2.06-.94 2.06-2.06.94zm-11 1L8.5 8.5l.94-2.06 2.06-.94-2.06-.94L8.5 2.5l-.94 2.06-2.06.94zm10 10l.94 2.06.94-2.06 2.06-.94-2.06-.94-.94-2.06-.94 2.06-2.06.94z\"/><path d=\"M17.41 7.96l-1.37-1.37c-.4-.4-.92-.59-1.43-.59-.52 0-1.04.2-1.43.59L10.3 9.45l-7.72 7.72c-.78.78-.78 2.05 0 2.83L4 21.41c.39.39.9.59 1.41.59.51 0 1.02-.2 1.41-.59l7.78-7.78 2.81-2.81c.8-.78.8-2.07 0-2.86zM5.41 20L4 18.59l7.72-7.72 1.47 1.35L5.41 20z\"/>\n",
              "  </svg>\n",
              "      </button>\n",
              "      \n",
              "  <style>\n",
              "    .colab-df-container {\n",
              "      display:flex;\n",
              "      flex-wrap:wrap;\n",
              "      gap: 12px;\n",
              "    }\n",
              "\n",
              "    .colab-df-convert {\n",
              "      background-color: #E8F0FE;\n",
              "      border: none;\n",
              "      border-radius: 50%;\n",
              "      cursor: pointer;\n",
              "      display: none;\n",
              "      fill: #1967D2;\n",
              "      height: 32px;\n",
              "      padding: 0 0 0 0;\n",
              "      width: 32px;\n",
              "    }\n",
              "\n",
              "    .colab-df-convert:hover {\n",
              "      background-color: #E2EBFA;\n",
              "      box-shadow: 0px 1px 2px rgba(60, 64, 67, 0.3), 0px 1px 3px 1px rgba(60, 64, 67, 0.15);\n",
              "      fill: #174EA6;\n",
              "    }\n",
              "\n",
              "    [theme=dark] .colab-df-convert {\n",
              "      background-color: #3B4455;\n",
              "      fill: #D2E3FC;\n",
              "    }\n",
              "\n",
              "    [theme=dark] .colab-df-convert:hover {\n",
              "      background-color: #434B5C;\n",
              "      box-shadow: 0px 1px 3px 1px rgba(0, 0, 0, 0.15);\n",
              "      filter: drop-shadow(0px 1px 2px rgba(0, 0, 0, 0.3));\n",
              "      fill: #FFFFFF;\n",
              "    }\n",
              "  </style>\n",
              "\n",
              "      <script>\n",
              "        const buttonEl =\n",
              "          document.querySelector('#df-bf4ffd74-58d1-4bd3-9e97-f8a35f4788ba button.colab-df-convert');\n",
              "        buttonEl.style.display =\n",
              "          google.colab.kernel.accessAllowed ? 'block' : 'none';\n",
              "\n",
              "        async function convertToInteractive(key) {\n",
              "          const element = document.querySelector('#df-bf4ffd74-58d1-4bd3-9e97-f8a35f4788ba');\n",
              "          const dataTable =\n",
              "            await google.colab.kernel.invokeFunction('convertToInteractive',\n",
              "                                                     [key], {});\n",
              "          if (!dataTable) return;\n",
              "\n",
              "          const docLinkHtml = 'Like what you see? Visit the ' +\n",
              "            '<a target=\"_blank\" href=https://colab.research.google.com/notebooks/data_table.ipynb>data table notebook</a>'\n",
              "            + ' to learn more about interactive tables.';\n",
              "          element.innerHTML = '';\n",
              "          dataTable['output_type'] = 'display_data';\n",
              "          await google.colab.output.renderOutput(dataTable, element);\n",
              "          const docLink = document.createElement('div');\n",
              "          docLink.innerHTML = docLinkHtml;\n",
              "          element.appendChild(docLink);\n",
              "        }\n",
              "      </script>\n",
              "    </div>\n",
              "  </div>\n",
              "  "
            ],
            "text/plain": [
              "   Output (S)          Ia        Ib  ...        Vc  Unnamed: 7  Unnamed: 8\n",
              "0           0 -170.472196  9.219613  ...  0.605431         NaN         NaN\n",
              "1           0 -122.235754  6.168667  ...  0.526202         NaN         NaN\n",
              "2           0  -90.161474  3.813632  ...  0.464251         NaN         NaN\n",
              "3           0  -79.904916  2.398803  ...  0.445963         NaN         NaN\n",
              "4           0  -63.885255  0.590667  ...  0.411050         NaN         NaN\n",
              "\n",
              "[5 rows x 9 columns]"
            ]
          },
          "metadata": {},
          "execution_count": 3
        }
      ],
      "source": [
        "df.head()"
      ]
    },
    {
      "cell_type": "markdown",
      "metadata": {
        "id": "174wyWpVWXHr"
      },
      "source": [
        "# basic EDA"
      ]
    },
    {
      "cell_type": "code",
      "execution_count": 4,
      "metadata": {
        "colab": {
          "base_uri": "https://localhost:8080/"
        },
        "id": "RDwkZbfflvIK",
        "outputId": "09326118-5b4a-4f8c-b810-dc0190af597d"
      },
      "outputs": [
        {
          "output_type": "execute_result",
          "data": {
            "text/plain": [
              "(12001, 9)"
            ]
          },
          "metadata": {},
          "execution_count": 4
        }
      ],
      "source": [
        "#checking shape of the dataset\n",
        "df.shape"
      ]
    },
    {
      "cell_type": "code",
      "execution_count": 5,
      "metadata": {
        "colab": {
          "base_uri": "https://localhost:8080/"
        },
        "id": "7e8t0ue5lvEV",
        "outputId": "8bc2179c-c478-4ce5-a83a-fb353a655cf7"
      },
      "outputs": [
        {
          "output_type": "execute_result",
          "data": {
            "text/plain": [
              "Index(['Output (S)', 'Ia', 'Ib', 'Ic', 'Va', 'Vb', 'Vc', 'Unnamed: 7',\n",
              "       'Unnamed: 8'],\n",
              "      dtype='object')"
            ]
          },
          "metadata": {},
          "execution_count": 5
        }
      ],
      "source": [
        "# checking columns of dataset\n",
        "df.columns"
      ]
    },
    {
      "cell_type": "code",
      "execution_count": 6,
      "metadata": {
        "colab": {
          "base_uri": "https://localhost:8080/"
        },
        "id": "qmywjdE5SjwQ",
        "outputId": "356da3c9-96f2-45f4-b08a-22e4ac8afe2f"
      },
      "outputs": [
        {
          "output_type": "execute_result",
          "data": {
            "text/plain": [
              "12001"
            ]
          },
          "metadata": {},
          "execution_count": 6
        }
      ],
      "source": [
        "# checking length of dataset\n",
        "len(df)"
      ]
    },
    {
      "cell_type": "code",
      "execution_count": 7,
      "metadata": {
        "colab": {
          "base_uri": "https://localhost:8080/"
        },
        "id": "1bFLlxnlSgGc",
        "outputId": "3cced000-472e-458e-e79d-3f07e8714c39"
      },
      "outputs": [
        {
          "output_type": "stream",
          "name": "stdout",
          "text": [
            "<class 'pandas.core.frame.DataFrame'>\n",
            "RangeIndex: 12001 entries, 0 to 12000\n",
            "Data columns (total 9 columns):\n",
            " #   Column      Non-Null Count  Dtype  \n",
            "---  ------      --------------  -----  \n",
            " 0   Output (S)  12001 non-null  int64  \n",
            " 1   Ia          12001 non-null  float64\n",
            " 2   Ib          12001 non-null  float64\n",
            " 3   Ic          12001 non-null  float64\n",
            " 4   Va          12001 non-null  float64\n",
            " 5   Vb          12001 non-null  float64\n",
            " 6   Vc          12001 non-null  float64\n",
            " 7   Unnamed: 7  0 non-null      float64\n",
            " 8   Unnamed: 8  0 non-null      float64\n",
            "dtypes: float64(8), int64(1)\n",
            "memory usage: 843.9 KB\n"
          ]
        }
      ],
      "source": [
        "# Checking which columns are having categorical, numerical or boolean values\n",
        "df.info()"
      ]
    },
    {
      "cell_type": "code",
      "execution_count": 8,
      "metadata": {
        "colab": {
          "base_uri": "https://localhost:8080/",
          "height": 300
        },
        "id": "WEEyYVD_lvDU",
        "outputId": "407aa3fc-d95e-4e52-ab5e-e2f8c05b8ba8"
      },
      "outputs": [
        {
          "output_type": "execute_result",
          "data": {
            "text/html": [
              "\n",
              "  <div id=\"df-8f228f7d-9b65-4c8b-947e-884405e7aa1e\">\n",
              "    <div class=\"colab-df-container\">\n",
              "      <div>\n",
              "<style scoped>\n",
              "    .dataframe tbody tr th:only-of-type {\n",
              "        vertical-align: middle;\n",
              "    }\n",
              "\n",
              "    .dataframe tbody tr th {\n",
              "        vertical-align: top;\n",
              "    }\n",
              "\n",
              "    .dataframe thead th {\n",
              "        text-align: right;\n",
              "    }\n",
              "</style>\n",
              "<table border=\"1\" class=\"dataframe\">\n",
              "  <thead>\n",
              "    <tr style=\"text-align: right;\">\n",
              "      <th></th>\n",
              "      <th>Output (S)</th>\n",
              "      <th>Ia</th>\n",
              "      <th>Ib</th>\n",
              "      <th>Ic</th>\n",
              "      <th>Va</th>\n",
              "      <th>Vb</th>\n",
              "      <th>Vc</th>\n",
              "      <th>Unnamed: 7</th>\n",
              "      <th>Unnamed: 8</th>\n",
              "    </tr>\n",
              "  </thead>\n",
              "  <tbody>\n",
              "    <tr>\n",
              "      <th>count</th>\n",
              "      <td>12001.000000</td>\n",
              "      <td>12001.000000</td>\n",
              "      <td>12001.000000</td>\n",
              "      <td>12001.000000</td>\n",
              "      <td>12001.000000</td>\n",
              "      <td>12001.000000</td>\n",
              "      <td>12001.000000</td>\n",
              "      <td>0.0</td>\n",
              "      <td>0.0</td>\n",
              "    </tr>\n",
              "    <tr>\n",
              "      <th>mean</th>\n",
              "      <td>0.457962</td>\n",
              "      <td>6.709369</td>\n",
              "      <td>-26.557793</td>\n",
              "      <td>22.353043</td>\n",
              "      <td>0.010517</td>\n",
              "      <td>-0.015498</td>\n",
              "      <td>0.004980</td>\n",
              "      <td>NaN</td>\n",
              "      <td>NaN</td>\n",
              "    </tr>\n",
              "    <tr>\n",
              "      <th>std</th>\n",
              "      <td>0.498250</td>\n",
              "      <td>377.158470</td>\n",
              "      <td>357.458613</td>\n",
              "      <td>302.052809</td>\n",
              "      <td>0.346221</td>\n",
              "      <td>0.357644</td>\n",
              "      <td>0.349272</td>\n",
              "      <td>NaN</td>\n",
              "      <td>NaN</td>\n",
              "    </tr>\n",
              "    <tr>\n",
              "      <th>min</th>\n",
              "      <td>0.000000</td>\n",
              "      <td>-883.542316</td>\n",
              "      <td>-900.526952</td>\n",
              "      <td>-883.357762</td>\n",
              "      <td>-0.620748</td>\n",
              "      <td>-0.659921</td>\n",
              "      <td>-0.612709</td>\n",
              "      <td>NaN</td>\n",
              "      <td>NaN</td>\n",
              "    </tr>\n",
              "    <tr>\n",
              "      <th>25%</th>\n",
              "      <td>0.000000</td>\n",
              "      <td>-64.348986</td>\n",
              "      <td>-51.421937</td>\n",
              "      <td>-54.562257</td>\n",
              "      <td>-0.237610</td>\n",
              "      <td>-0.313721</td>\n",
              "      <td>-0.278951</td>\n",
              "      <td>NaN</td>\n",
              "      <td>NaN</td>\n",
              "    </tr>\n",
              "    <tr>\n",
              "      <th>50%</th>\n",
              "      <td>0.000000</td>\n",
              "      <td>-3.239788</td>\n",
              "      <td>4.711283</td>\n",
              "      <td>-0.399419</td>\n",
              "      <td>0.002465</td>\n",
              "      <td>-0.007192</td>\n",
              "      <td>0.008381</td>\n",
              "      <td>NaN</td>\n",
              "      <td>NaN</td>\n",
              "    </tr>\n",
              "    <tr>\n",
              "      <th>75%</th>\n",
              "      <td>1.000000</td>\n",
              "      <td>53.823453</td>\n",
              "      <td>69.637787</td>\n",
              "      <td>45.274542</td>\n",
              "      <td>0.285078</td>\n",
              "      <td>0.248681</td>\n",
              "      <td>0.289681</td>\n",
              "      <td>NaN</td>\n",
              "      <td>NaN</td>\n",
              "    </tr>\n",
              "    <tr>\n",
              "      <th>max</th>\n",
              "      <td>1.000000</td>\n",
              "      <td>885.738571</td>\n",
              "      <td>889.868884</td>\n",
              "      <td>901.274261</td>\n",
              "      <td>0.609864</td>\n",
              "      <td>0.627875</td>\n",
              "      <td>0.608243</td>\n",
              "      <td>NaN</td>\n",
              "      <td>NaN</td>\n",
              "    </tr>\n",
              "  </tbody>\n",
              "</table>\n",
              "</div>\n",
              "      <button class=\"colab-df-convert\" onclick=\"convertToInteractive('df-8f228f7d-9b65-4c8b-947e-884405e7aa1e')\"\n",
              "              title=\"Convert this dataframe to an interactive table.\"\n",
              "              style=\"display:none;\">\n",
              "        \n",
              "  <svg xmlns=\"http://www.w3.org/2000/svg\" height=\"24px\"viewBox=\"0 0 24 24\"\n",
              "       width=\"24px\">\n",
              "    <path d=\"M0 0h24v24H0V0z\" fill=\"none\"/>\n",
              "    <path d=\"M18.56 5.44l.94 2.06.94-2.06 2.06-.94-2.06-.94-.94-2.06-.94 2.06-2.06.94zm-11 1L8.5 8.5l.94-2.06 2.06-.94-2.06-.94L8.5 2.5l-.94 2.06-2.06.94zm10 10l.94 2.06.94-2.06 2.06-.94-2.06-.94-.94-2.06-.94 2.06-2.06.94z\"/><path d=\"M17.41 7.96l-1.37-1.37c-.4-.4-.92-.59-1.43-.59-.52 0-1.04.2-1.43.59L10.3 9.45l-7.72 7.72c-.78.78-.78 2.05 0 2.83L4 21.41c.39.39.9.59 1.41.59.51 0 1.02-.2 1.41-.59l7.78-7.78 2.81-2.81c.8-.78.8-2.07 0-2.86zM5.41 20L4 18.59l7.72-7.72 1.47 1.35L5.41 20z\"/>\n",
              "  </svg>\n",
              "      </button>\n",
              "      \n",
              "  <style>\n",
              "    .colab-df-container {\n",
              "      display:flex;\n",
              "      flex-wrap:wrap;\n",
              "      gap: 12px;\n",
              "    }\n",
              "\n",
              "    .colab-df-convert {\n",
              "      background-color: #E8F0FE;\n",
              "      border: none;\n",
              "      border-radius: 50%;\n",
              "      cursor: pointer;\n",
              "      display: none;\n",
              "      fill: #1967D2;\n",
              "      height: 32px;\n",
              "      padding: 0 0 0 0;\n",
              "      width: 32px;\n",
              "    }\n",
              "\n",
              "    .colab-df-convert:hover {\n",
              "      background-color: #E2EBFA;\n",
              "      box-shadow: 0px 1px 2px rgba(60, 64, 67, 0.3), 0px 1px 3px 1px rgba(60, 64, 67, 0.15);\n",
              "      fill: #174EA6;\n",
              "    }\n",
              "\n",
              "    [theme=dark] .colab-df-convert {\n",
              "      background-color: #3B4455;\n",
              "      fill: #D2E3FC;\n",
              "    }\n",
              "\n",
              "    [theme=dark] .colab-df-convert:hover {\n",
              "      background-color: #434B5C;\n",
              "      box-shadow: 0px 1px 3px 1px rgba(0, 0, 0, 0.15);\n",
              "      filter: drop-shadow(0px 1px 2px rgba(0, 0, 0, 0.3));\n",
              "      fill: #FFFFFF;\n",
              "    }\n",
              "  </style>\n",
              "\n",
              "      <script>\n",
              "        const buttonEl =\n",
              "          document.querySelector('#df-8f228f7d-9b65-4c8b-947e-884405e7aa1e button.colab-df-convert');\n",
              "        buttonEl.style.display =\n",
              "          google.colab.kernel.accessAllowed ? 'block' : 'none';\n",
              "\n",
              "        async function convertToInteractive(key) {\n",
              "          const element = document.querySelector('#df-8f228f7d-9b65-4c8b-947e-884405e7aa1e');\n",
              "          const dataTable =\n",
              "            await google.colab.kernel.invokeFunction('convertToInteractive',\n",
              "                                                     [key], {});\n",
              "          if (!dataTable) return;\n",
              "\n",
              "          const docLinkHtml = 'Like what you see? Visit the ' +\n",
              "            '<a target=\"_blank\" href=https://colab.research.google.com/notebooks/data_table.ipynb>data table notebook</a>'\n",
              "            + ' to learn more about interactive tables.';\n",
              "          element.innerHTML = '';\n",
              "          dataTable['output_type'] = 'display_data';\n",
              "          await google.colab.output.renderOutput(dataTable, element);\n",
              "          const docLink = document.createElement('div');\n",
              "          docLink.innerHTML = docLinkHtml;\n",
              "          element.appendChild(docLink);\n",
              "        }\n",
              "      </script>\n",
              "    </div>\n",
              "  </div>\n",
              "  "
            ],
            "text/plain": [
              "         Output (S)            Ia  ...  Unnamed: 7  Unnamed: 8\n",
              "count  12001.000000  12001.000000  ...         0.0         0.0\n",
              "mean       0.457962      6.709369  ...         NaN         NaN\n",
              "std        0.498250    377.158470  ...         NaN         NaN\n",
              "min        0.000000   -883.542316  ...         NaN         NaN\n",
              "25%        0.000000    -64.348986  ...         NaN         NaN\n",
              "50%        0.000000     -3.239788  ...         NaN         NaN\n",
              "75%        1.000000     53.823453  ...         NaN         NaN\n",
              "max        1.000000    885.738571  ...         NaN         NaN\n",
              "\n",
              "[8 rows x 9 columns]"
            ]
          },
          "metadata": {},
          "execution_count": 8
        }
      ],
      "source": [
        "# For more information on the dataset like the total count in all the columns of train data\n",
        "# min, max values and more information of the respective columns \n",
        "df.describe()"
      ]
    },
    {
      "cell_type": "code",
      "execution_count": 9,
      "metadata": {
        "colab": {
          "base_uri": "https://localhost:8080/"
        },
        "id": "qR_KvwfZnqDh",
        "outputId": "d66c5323-0ebd-4f28-d8b3-c1558edcd4d2"
      },
      "outputs": [
        {
          "output_type": "execute_result",
          "data": {
            "text/plain": [
              "Output (S)        0\n",
              "Ia                0\n",
              "Ib                0\n",
              "Ic                0\n",
              "Va                0\n",
              "Vb                0\n",
              "Vc                0\n",
              "Unnamed: 7    12001\n",
              "Unnamed: 8    12001\n",
              "dtype: int64"
            ]
          },
          "metadata": {},
          "execution_count": 9
        }
      ],
      "source": [
        "# Checking for missing values in all the columnns of the dataset\n",
        "df.isna().sum()"
      ]
    },
    {
      "cell_type": "code",
      "execution_count": 10,
      "metadata": {
        "colab": {
          "base_uri": "https://localhost:8080/"
        },
        "id": "RHYBt6CzSn3L",
        "outputId": "bba662a5-651d-47cf-d387-0153cc5612b4"
      },
      "outputs": [
        {
          "output_type": "stream",
          "name": "stdout",
          "text": [
            "Output (S): 2\n",
            "Ia: 12001\n",
            "Ib: 12001\n",
            "Ic: 12001\n",
            "Va: 11996\n",
            "Vb: 11813\n",
            "Vc: 11987\n",
            "Unnamed: 7: 1\n",
            "Unnamed: 8: 1\n"
          ]
        }
      ],
      "source": [
        "# looping through datatset to find count of unique values of each column to gain more insights on the dataset\n",
        "for col in df:\n",
        "  print(str(col)+\":\",len(df[col].unique()))\n"
      ]
    },
    {
      "cell_type": "code",
      "execution_count": 11,
      "metadata": {
        "id": "kC38hVyv-fyX"
      },
      "outputs": [],
      "source": [
        "# droping 'Unnamed: 7','Unnamed: 8' as they have all the roas as nan and donot add any valuable information.\n",
        "df.drop(labels=['Unnamed: 7','Unnamed: 8'], axis=1 ,inplace=True)\n"
      ]
    },
    {
      "cell_type": "code",
      "source": [
        "df.columns"
      ],
      "metadata": {
        "colab": {
          "base_uri": "https://localhost:8080/"
        },
        "id": "6202Ef4eNHFf",
        "outputId": "aeec2075-8f8c-4510-d083-19433835febd"
      },
      "execution_count": 12,
      "outputs": [
        {
          "output_type": "execute_result",
          "data": {
            "text/plain": [
              "Index(['Output (S)', 'Ia', 'Ib', 'Ic', 'Va', 'Vb', 'Vc'], dtype='object')"
            ]
          },
          "metadata": {},
          "execution_count": 12
        }
      ]
    },
    {
      "cell_type": "markdown",
      "metadata": {
        "id": "2tYBYcVMTXOe"
      },
      "source": [
        "# Correlation Matrix\n",
        "\n",
        "## Why?\n",
        "#### A correlation matrix is a table showing correlation coefficients between variables.\n",
        "\n",
        "### There are three broad reasons for computing a correlation matrix:\n",
        "\n",
        "  1. To summarize a large amount of data where the goal is to see patterns. In our example above, the observable pattern is that all the variables highly correlate with each other.\n",
        "  2. To input into other analyses. For example, people commonly use correlation matrixes as inputs for exploratory factor analysis, confirmatory factor analysis, structural equation models, and linear regression when excluding missing values pairwise.\n",
        "  3. As a diagnostic when checking other analyses. For example, with linear regression, a high amount of correlations suggests that the linear regression estimates will be unreliable."
      ]
    },
    {
      "cell_type": "code",
      "execution_count": 13,
      "metadata": {
        "colab": {
          "base_uri": "https://localhost:8080/",
          "height": 269
        },
        "id": "Txt0Rpe4CS_v",
        "outputId": "9e2e9ef9-5819-4c03-cdfa-0b46e1e62a4d"
      },
      "outputs": [
        {
          "output_type": "execute_result",
          "data": {
            "text/html": [
              "<style  type=\"text/css\" >\n",
              "#T_99c883bc_6e4c_11ec_979b_0242ac1c0002row0_col0,#T_99c883bc_6e4c_11ec_979b_0242ac1c0002row1_col1,#T_99c883bc_6e4c_11ec_979b_0242ac1c0002row2_col2,#T_99c883bc_6e4c_11ec_979b_0242ac1c0002row3_col3,#T_99c883bc_6e4c_11ec_979b_0242ac1c0002row4_col4,#T_99c883bc_6e4c_11ec_979b_0242ac1c0002row5_col5,#T_99c883bc_6e4c_11ec_979b_0242ac1c0002row6_col6{\n",
              "            background-color:  #b40426;\n",
              "            color:  #f1f1f1;\n",
              "        }#T_99c883bc_6e4c_11ec_979b_0242ac1c0002row0_col1{\n",
              "            background-color:  #9fbfff;\n",
              "            color:  #000000;\n",
              "        }#T_99c883bc_6e4c_11ec_979b_0242ac1c0002row0_col2{\n",
              "            background-color:  #90b2fe;\n",
              "            color:  #000000;\n",
              "        }#T_99c883bc_6e4c_11ec_979b_0242ac1c0002row0_col3{\n",
              "            background-color:  #c7d7f0;\n",
              "            color:  #000000;\n",
              "        }#T_99c883bc_6e4c_11ec_979b_0242ac1c0002row0_col4{\n",
              "            background-color:  #a3c2fe;\n",
              "            color:  #000000;\n",
              "        }#T_99c883bc_6e4c_11ec_979b_0242ac1c0002row0_col5{\n",
              "            background-color:  #afcafc;\n",
              "            color:  #000000;\n",
              "        }#T_99c883bc_6e4c_11ec_979b_0242ac1c0002row0_col6,#T_99c883bc_6e4c_11ec_979b_0242ac1c0002row1_col4{\n",
              "            background-color:  #b2ccfb;\n",
              "            color:  #000000;\n",
              "        }#T_99c883bc_6e4c_11ec_979b_0242ac1c0002row1_col0{\n",
              "            background-color:  #6b8df0;\n",
              "            color:  #000000;\n",
              "        }#T_99c883bc_6e4c_11ec_979b_0242ac1c0002row1_col2{\n",
              "            background-color:  #5977e3;\n",
              "            color:  #000000;\n",
              "        }#T_99c883bc_6e4c_11ec_979b_0242ac1c0002row1_col3{\n",
              "            background-color:  #6f92f3;\n",
              "            color:  #000000;\n",
              "        }#T_99c883bc_6e4c_11ec_979b_0242ac1c0002row1_col5{\n",
              "            background-color:  #88abfd;\n",
              "            color:  #000000;\n",
              "        }#T_99c883bc_6e4c_11ec_979b_0242ac1c0002row1_col6{\n",
              "            background-color:  #c9d7f0;\n",
              "            color:  #000000;\n",
              "        }#T_99c883bc_6e4c_11ec_979b_0242ac1c0002row2_col0,#T_99c883bc_6e4c_11ec_979b_0242ac1c0002row2_col1,#T_99c883bc_6e4c_11ec_979b_0242ac1c0002row2_col3,#T_99c883bc_6e4c_11ec_979b_0242ac1c0002row3_col2,#T_99c883bc_6e4c_11ec_979b_0242ac1c0002row5_col4,#T_99c883bc_6e4c_11ec_979b_0242ac1c0002row5_col6,#T_99c883bc_6e4c_11ec_979b_0242ac1c0002row6_col5{\n",
              "            background-color:  #3b4cc0;\n",
              "            color:  #f1f1f1;\n",
              "        }#T_99c883bc_6e4c_11ec_979b_0242ac1c0002row2_col4{\n",
              "            background-color:  #a5c3fe;\n",
              "            color:  #000000;\n",
              "        }#T_99c883bc_6e4c_11ec_979b_0242ac1c0002row2_col5{\n",
              "            background-color:  #b5cdfa;\n",
              "            color:  #000000;\n",
              "        }#T_99c883bc_6e4c_11ec_979b_0242ac1c0002row2_col6{\n",
              "            background-color:  #abc8fd;\n",
              "            color:  #000000;\n",
              "        }#T_99c883bc_6e4c_11ec_979b_0242ac1c0002row3_col0{\n",
              "            background-color:  #84a7fc;\n",
              "            color:  #000000;\n",
              "        }#T_99c883bc_6e4c_11ec_979b_0242ac1c0002row3_col1{\n",
              "            background-color:  #506bda;\n",
              "            color:  #000000;\n",
              "        }#T_99c883bc_6e4c_11ec_979b_0242ac1c0002row3_col4{\n",
              "            background-color:  #aac7fd;\n",
              "            color:  #000000;\n",
              "        }#T_99c883bc_6e4c_11ec_979b_0242ac1c0002row3_col5{\n",
              "            background-color:  #97b8ff;\n",
              "            color:  #000000;\n",
              "        }#T_99c883bc_6e4c_11ec_979b_0242ac1c0002row3_col6{\n",
              "            background-color:  #c3d5f4;\n",
              "            color:  #000000;\n",
              "        }#T_99c883bc_6e4c_11ec_979b_0242ac1c0002row4_col0{\n",
              "            background-color:  #5572df;\n",
              "            color:  #000000;\n",
              "        }#T_99c883bc_6e4c_11ec_979b_0242ac1c0002row4_col1{\n",
              "            background-color:  #9dbdff;\n",
              "            color:  #000000;\n",
              "        }#T_99c883bc_6e4c_11ec_979b_0242ac1c0002row4_col2{\n",
              "            background-color:  #a9c6fd;\n",
              "            color:  #000000;\n",
              "        }#T_99c883bc_6e4c_11ec_979b_0242ac1c0002row4_col3{\n",
              "            background-color:  #aec9fc;\n",
              "            color:  #000000;\n",
              "        }#T_99c883bc_6e4c_11ec_979b_0242ac1c0002row4_col5{\n",
              "            background-color:  #3d50c3;\n",
              "            color:  #f1f1f1;\n",
              "        }#T_99c883bc_6e4c_11ec_979b_0242ac1c0002row4_col6{\n",
              "            background-color:  #445acc;\n",
              "            color:  #f1f1f1;\n",
              "        }#T_99c883bc_6e4c_11ec_979b_0242ac1c0002row5_col0{\n",
              "            background-color:  #6384eb;\n",
              "            color:  #000000;\n",
              "        }#T_99c883bc_6e4c_11ec_979b_0242ac1c0002row5_col1{\n",
              "            background-color:  #6c8ff1;\n",
              "            color:  #000000;\n",
              "        }#T_99c883bc_6e4c_11ec_979b_0242ac1c0002row5_col2,#T_99c883bc_6e4c_11ec_979b_0242ac1c0002row6_col1{\n",
              "            background-color:  #b6cefa;\n",
              "            color:  #000000;\n",
              "        }#T_99c883bc_6e4c_11ec_979b_0242ac1c0002row5_col3{\n",
              "            background-color:  #98b9ff;\n",
              "            color:  #000000;\n",
              "        }#T_99c883bc_6e4c_11ec_979b_0242ac1c0002row6_col0{\n",
              "            background-color:  #6687ed;\n",
              "            color:  #000000;\n",
              "        }#T_99c883bc_6e4c_11ec_979b_0242ac1c0002row6_col2{\n",
              "            background-color:  #adc9fd;\n",
              "            color:  #000000;\n",
              "        }#T_99c883bc_6e4c_11ec_979b_0242ac1c0002row6_col3{\n",
              "            background-color:  #c4d5f3;\n",
              "            color:  #000000;\n",
              "        }#T_99c883bc_6e4c_11ec_979b_0242ac1c0002row6_col4{\n",
              "            background-color:  #4257c9;\n",
              "            color:  #f1f1f1;\n",
              "        }</style><table id=\"T_99c883bc_6e4c_11ec_979b_0242ac1c0002\" class=\"dataframe\"><thead>    <tr>        <th class=\"blank level0\" ></th>        <th class=\"col_heading level0 col0\" >Output (S)</th>        <th class=\"col_heading level0 col1\" >Ia</th>        <th class=\"col_heading level0 col2\" >Ib</th>        <th class=\"col_heading level0 col3\" >Ic</th>        <th class=\"col_heading level0 col4\" >Va</th>        <th class=\"col_heading level0 col5\" >Vb</th>        <th class=\"col_heading level0 col6\" >Vc</th>    </tr></thead><tbody>\n",
              "                <tr>\n",
              "                        <th id=\"T_99c883bc_6e4c_11ec_979b_0242ac1c0002level0_row0\" class=\"row_heading level0 row0\" >Output (S)</th>\n",
              "                        <td id=\"T_99c883bc_6e4c_11ec_979b_0242ac1c0002row0_col0\" class=\"data row0 col0\" >1.000000</td>\n",
              "                        <td id=\"T_99c883bc_6e4c_11ec_979b_0242ac1c0002row0_col1\" class=\"data row0 col1\" >0.039408</td>\n",
              "                        <td id=\"T_99c883bc_6e4c_11ec_979b_0242ac1c0002row0_col2\" class=\"data row0 col2\" >-0.134028</td>\n",
              "                        <td id=\"T_99c883bc_6e4c_11ec_979b_0242ac1c0002row0_col3\" class=\"data row0 col3\" >0.120044</td>\n",
              "                        <td id=\"T_99c883bc_6e4c_11ec_979b_0242ac1c0002row0_col4\" class=\"data row0 col4\" >-0.035377</td>\n",
              "                        <td id=\"T_99c883bc_6e4c_11ec_979b_0242ac1c0002row0_col5\" class=\"data row0 col5\" >0.012206</td>\n",
              "                        <td id=\"T_99c883bc_6e4c_11ec_979b_0242ac1c0002row0_col6\" class=\"data row0 col6\" >0.022570</td>\n",
              "            </tr>\n",
              "            <tr>\n",
              "                        <th id=\"T_99c883bc_6e4c_11ec_979b_0242ac1c0002level0_row1\" class=\"row_heading level0 row1\" >Ia</th>\n",
              "                        <td id=\"T_99c883bc_6e4c_11ec_979b_0242ac1c0002row1_col0\" class=\"data row1 col0\" >0.039408</td>\n",
              "                        <td id=\"T_99c883bc_6e4c_11ec_979b_0242ac1c0002row1_col1\" class=\"data row1 col1\" >1.000000</td>\n",
              "                        <td id=\"T_99c883bc_6e4c_11ec_979b_0242ac1c0002row1_col2\" class=\"data row1 col2\" >-0.375477</td>\n",
              "                        <td id=\"T_99c883bc_6e4c_11ec_979b_0242ac1c0002row1_col3\" class=\"data row1 col3\" >-0.275694</td>\n",
              "                        <td id=\"T_99c883bc_6e4c_11ec_979b_0242ac1c0002row1_col4\" class=\"data row1 col4\" >0.032598</td>\n",
              "                        <td id=\"T_99c883bc_6e4c_11ec_979b_0242ac1c0002row1_col5\" class=\"data row1 col5\" >-0.158207</td>\n",
              "                        <td id=\"T_99c883bc_6e4c_11ec_979b_0242ac1c0002row1_col6\" class=\"data row1 col6\" >0.129686</td>\n",
              "            </tr>\n",
              "            <tr>\n",
              "                        <th id=\"T_99c883bc_6e4c_11ec_979b_0242ac1c0002level0_row2\" class=\"row_heading level0 row2\" >Ib</th>\n",
              "                        <td id=\"T_99c883bc_6e4c_11ec_979b_0242ac1c0002row2_col0\" class=\"data row2 col0\" >-0.134028</td>\n",
              "                        <td id=\"T_99c883bc_6e4c_11ec_979b_0242ac1c0002row2_col1\" class=\"data row2 col1\" >-0.375477</td>\n",
              "                        <td id=\"T_99c883bc_6e4c_11ec_979b_0242ac1c0002row2_col2\" class=\"data row2 col2\" >1.000000</td>\n",
              "                        <td id=\"T_99c883bc_6e4c_11ec_979b_0242ac1c0002row2_col3\" class=\"data row2 col3\" >-0.530187</td>\n",
              "                        <td id=\"T_99c883bc_6e4c_11ec_979b_0242ac1c0002row2_col4\" class=\"data row2 col4\" >-0.027052</td>\n",
              "                        <td id=\"T_99c883bc_6e4c_11ec_979b_0242ac1c0002row2_col5\" class=\"data row2 col5\" >0.032248</td>\n",
              "                        <td id=\"T_99c883bc_6e4c_11ec_979b_0242ac1c0002row2_col6\" class=\"data row2 col6\" >-0.006205</td>\n",
              "            </tr>\n",
              "            <tr>\n",
              "                        <th id=\"T_99c883bc_6e4c_11ec_979b_0242ac1c0002level0_row3\" class=\"row_heading level0 row3\" >Ic</th>\n",
              "                        <td id=\"T_99c883bc_6e4c_11ec_979b_0242ac1c0002row3_col0\" class=\"data row3 col0\" >0.120044</td>\n",
              "                        <td id=\"T_99c883bc_6e4c_11ec_979b_0242ac1c0002row3_col1\" class=\"data row3 col1\" >-0.275694</td>\n",
              "                        <td id=\"T_99c883bc_6e4c_11ec_979b_0242ac1c0002row3_col2\" class=\"data row3 col2\" >-0.530187</td>\n",
              "                        <td id=\"T_99c883bc_6e4c_11ec_979b_0242ac1c0002row3_col3\" class=\"data row3 col3\" >1.000000</td>\n",
              "                        <td id=\"T_99c883bc_6e4c_11ec_979b_0242ac1c0002row3_col4\" class=\"data row3 col4\" >-0.001813</td>\n",
              "                        <td id=\"T_99c883bc_6e4c_11ec_979b_0242ac1c0002row3_col5\" class=\"data row3 col5\" >-0.096194</td>\n",
              "                        <td id=\"T_99c883bc_6e4c_11ec_979b_0242ac1c0002row3_col6\" class=\"data row3 col6\" >0.100298</td>\n",
              "            </tr>\n",
              "            <tr>\n",
              "                        <th id=\"T_99c883bc_6e4c_11ec_979b_0242ac1c0002level0_row4\" class=\"row_heading level0 row4\" >Va</th>\n",
              "                        <td id=\"T_99c883bc_6e4c_11ec_979b_0242ac1c0002row4_col0\" class=\"data row4 col0\" >-0.035377</td>\n",
              "                        <td id=\"T_99c883bc_6e4c_11ec_979b_0242ac1c0002row4_col1\" class=\"data row4 col1\" >0.032598</td>\n",
              "                        <td id=\"T_99c883bc_6e4c_11ec_979b_0242ac1c0002row4_col2\" class=\"data row4 col2\" >-0.027052</td>\n",
              "                        <td id=\"T_99c883bc_6e4c_11ec_979b_0242ac1c0002row4_col3\" class=\"data row4 col3\" >-0.001813</td>\n",
              "                        <td id=\"T_99c883bc_6e4c_11ec_979b_0242ac1c0002row4_col4\" class=\"data row4 col4\" >1.000000</td>\n",
              "                        <td id=\"T_99c883bc_6e4c_11ec_979b_0242ac1c0002row4_col5\" class=\"data row4 col5\" >-0.507928</td>\n",
              "                        <td id=\"T_99c883bc_6e4c_11ec_979b_0242ac1c0002row4_col6\" class=\"data row4 col6\" >-0.471163</td>\n",
              "            </tr>\n",
              "            <tr>\n",
              "                        <th id=\"T_99c883bc_6e4c_11ec_979b_0242ac1c0002level0_row5\" class=\"row_heading level0 row5\" >Vb</th>\n",
              "                        <td id=\"T_99c883bc_6e4c_11ec_979b_0242ac1c0002row5_col0\" class=\"data row5 col0\" >0.012206</td>\n",
              "                        <td id=\"T_99c883bc_6e4c_11ec_979b_0242ac1c0002row5_col1\" class=\"data row5 col1\" >-0.158207</td>\n",
              "                        <td id=\"T_99c883bc_6e4c_11ec_979b_0242ac1c0002row5_col2\" class=\"data row5 col2\" >0.032248</td>\n",
              "                        <td id=\"T_99c883bc_6e4c_11ec_979b_0242ac1c0002row5_col3\" class=\"data row5 col3\" >-0.096194</td>\n",
              "                        <td id=\"T_99c883bc_6e4c_11ec_979b_0242ac1c0002row5_col4\" class=\"data row5 col4\" >-0.507928</td>\n",
              "                        <td id=\"T_99c883bc_6e4c_11ec_979b_0242ac1c0002row5_col5\" class=\"data row5 col5\" >1.000000</td>\n",
              "                        <td id=\"T_99c883bc_6e4c_11ec_979b_0242ac1c0002row5_col6\" class=\"data row5 col6\" >-0.520478</td>\n",
              "            </tr>\n",
              "            <tr>\n",
              "                        <th id=\"T_99c883bc_6e4c_11ec_979b_0242ac1c0002level0_row6\" class=\"row_heading level0 row6\" >Vc</th>\n",
              "                        <td id=\"T_99c883bc_6e4c_11ec_979b_0242ac1c0002row6_col0\" class=\"data row6 col0\" >0.022570</td>\n",
              "                        <td id=\"T_99c883bc_6e4c_11ec_979b_0242ac1c0002row6_col1\" class=\"data row6 col1\" >0.129686</td>\n",
              "                        <td id=\"T_99c883bc_6e4c_11ec_979b_0242ac1c0002row6_col2\" class=\"data row6 col2\" >-0.006205</td>\n",
              "                        <td id=\"T_99c883bc_6e4c_11ec_979b_0242ac1c0002row6_col3\" class=\"data row6 col3\" >0.100298</td>\n",
              "                        <td id=\"T_99c883bc_6e4c_11ec_979b_0242ac1c0002row6_col4\" class=\"data row6 col4\" >-0.471163</td>\n",
              "                        <td id=\"T_99c883bc_6e4c_11ec_979b_0242ac1c0002row6_col5\" class=\"data row6 col5\" >-0.520478</td>\n",
              "                        <td id=\"T_99c883bc_6e4c_11ec_979b_0242ac1c0002row6_col6\" class=\"data row6 col6\" >1.000000</td>\n",
              "            </tr>\n",
              "    </tbody></table>"
            ],
            "text/plain": [
              "<pandas.io.formats.style.Styler at 0x7f354d227f10>"
            ]
          },
          "metadata": {},
          "execution_count": 13
        }
      ],
      "source": [
        "# Using pandas\n",
        "corr = df.corr()\n",
        "corr.style.background_gradient(cmap='coolwarm')"
      ]
    },
    {
      "cell_type": "markdown",
      "metadata": {
        "id": "XnEsWEEsTm-T"
      },
      "source": [
        "# Histogram\n",
        "\n",
        "1. A histogram is an approximate representation of the distribution of numerical data.\n",
        "\n",
        "2. To construct a histogram, the first step is to \"bin\" (or \"bucket\") the range of values—that is, divide the entire range of values into a series of intervals—and then count how many values fall into each interval.\n",
        "\n",
        "3. The words used to describe the patterns in a histogram are: \"symmetric\", \"skewed left\" or \"right\", \"unimodal\", \"bimodal\" or \"multimodal\"."
      ]
    },
    {
      "cell_type": "code",
      "execution_count": 14,
      "metadata": {
        "colab": {
          "base_uri": "https://localhost:8080/",
          "height": 789
        },
        "id": "IQ2N-BOlCS-X",
        "outputId": "5474fb82-991f-486b-dd80-54040333e064"
      },
      "outputs": [
        {
          "output_type": "execute_result",
          "data": {
            "text/plain": [
              "array([[<matplotlib.axes._subplots.AxesSubplot object at 0x7f354cc45a50>,\n",
              "        <matplotlib.axes._subplots.AxesSubplot object at 0x7f354cc19d90>,\n",
              "        <matplotlib.axes._subplots.AxesSubplot object at 0x7f354cbe13d0>],\n",
              "       [<matplotlib.axes._subplots.AxesSubplot object at 0x7f354cb989d0>,\n",
              "        <matplotlib.axes._subplots.AxesSubplot object at 0x7f354cb4b950>,\n",
              "        <matplotlib.axes._subplots.AxesSubplot object at 0x7f354cb02f50>],\n",
              "       [<matplotlib.axes._subplots.AxesSubplot object at 0x7f354cac4610>,\n",
              "        <matplotlib.axes._subplots.AxesSubplot object at 0x7f354ca79b50>,\n",
              "        <matplotlib.axes._subplots.AxesSubplot object at 0x7f354ca79b90>]],\n",
              "      dtype=object)"
            ]
          },
          "metadata": {},
          "execution_count": 14
        },
        {
          "output_type": "display_data",
          "data": {
            "image/png": "[encoded data removed]",
            "text/plain": [
              "<Figure size 720x720 with 9 Axes>"
            ]
          },
          "metadata": {
            "needs_background": "light"
          }
        }
      ],
      "source": [
        "# Histogram using pandas \n",
        "df.hist(figsize=(10,10))\n"
      ]
    },
    {
      "cell_type": "markdown",
      "metadata": {
        "id": "A9lQc6G_T6le"
      },
      "source": [
        "### Count plot"
      ]
    },
    {
      "cell_type": "code",
      "execution_count": 15,
      "metadata": {
        "colab": {
          "base_uri": "https://localhost:8080/",
          "height": 279
        },
        "id": "44nndj72Cjak",
        "outputId": "d1b38a99-b8b3-4442-a4b8-155a8b06977e"
      },
      "outputs": [
        {
          "output_type": "display_data",
          "data": {
            "image/png": "[encoded data removed]",
            "text/plain": [
              "<Figure size 432x288 with 1 Axes>"
            ]
          },
          "metadata": {
            "needs_background": "light"
          }
        }
      ],
      "source": [
        "# count plot of Output (S) column\n",
        "ax = sns.countplot(x='Output (S)', data=df)"
      ]
    },
    {
      "cell_type": "markdown",
      "metadata": {
        "id": "TqaIURlaT_e2"
      },
      "source": [
        "# Box plot\n",
        "\n",
        "\n",
        "A boxplot is a standardized way of displaying the dataset based on a five-number summary:\n",
        "\n",
        "    1. Minimum (Q0 or 0th percentile): the lowest data point excluding any outliers.\n",
        "\n",
        "    2. Maximum (Q4 or 100th percentile): the largest data point excluding any outliers.\n",
        "\n",
        "    3. Median (Q2 or 50th percentile): the middle value of the dataset.\n",
        "\n",
        "    4. First quartile (Q1 or 25th percentile): also known as the lower quartile qn(0.25), is the median of the lower half of the dataset.\n",
        "\n",
        "    5. Third quartile (Q3 or 75th percentile): also known as the upper quartile qn(0.75), is the median of the upper half of the dataset"
      ]
    },
    {
      "cell_type": "code",
      "execution_count": 16,
      "metadata": {
        "colab": {
          "base_uri": "https://localhost:8080/",
          "height": 283
        },
        "id": "OwU1rU-KCjDn",
        "outputId": "72fe1bc3-8bf4-4cbf-aee4-41ac91f6d485"
      },
      "outputs": [
        {
          "output_type": "execute_result",
          "data": {
            "text/plain": [
              "<matplotlib.axes._subplots.AxesSubplot at 0x7f354c33c9d0>"
            ]
          },
          "metadata": {},
          "execution_count": 16
        },
        {
          "output_type": "display_data",
          "data": {
            "image/png": "[encoded data removed]",
            "text/plain": [
              "<Figure size 432x288 with 1 Axes>"
            ]
          },
          "metadata": {
            "needs_background": "light"
          }
        }
      ],
      "source": [
        "# box plot using pandas \n",
        "# box plot for Output (S) column \n",
        "df.boxplot(column=['Output (S)'])\n"
      ]
    },
    {
      "cell_type": "code",
      "execution_count": 17,
      "metadata": {
        "colab": {
          "base_uri": "https://localhost:8080/",
          "height": 283
        },
        "id": "Ri4cEZKrDDk1",
        "outputId": "42183e9f-4599-41b9-880a-33a010b18029"
      },
      "outputs": [
        {
          "output_type": "execute_result",
          "data": {
            "text/plain": [
              "<matplotlib.axes._subplots.AxesSubplot at 0x7f354c2aa290>"
            ]
          },
          "metadata": {},
          "execution_count": 17
        },
        {
          "output_type": "display_data",
          "data": {
            "image/png": "[encoded data removed]",
            "text/plain": [
              "<Figure size 432x288 with 1 Axes>"
            ]
          },
          "metadata": {
            "needs_background": "light"
          }
        }
      ],
      "source": [
        "# box plot using pandas \n",
        "# box plot for Ia column \n",
        "df.boxplot(column=['Ia'])\n"
      ]
    },
    {
      "cell_type": "code",
      "execution_count": 18,
      "metadata": {
        "colab": {
          "base_uri": "https://localhost:8080/",
          "height": 283
        },
        "id": "iATUk1TjDDiU",
        "outputId": "17db648f-7c39-4f98-86d4-83e66c1156ec"
      },
      "outputs": [
        {
          "output_type": "execute_result",
          "data": {
            "text/plain": [
              "<matplotlib.axes._subplots.AxesSubplot at 0x7f354c295f50>"
            ]
          },
          "metadata": {},
          "execution_count": 18
        },
        {
          "output_type": "display_data",
          "data": {
            "image/png": "[encoded data removed]",
            "text/plain": [
              "<Figure size 432x288 with 1 Axes>"
            ]
          },
          "metadata": {
            "needs_background": "light"
          }
        }
      ],
      "source": [
        "# box plot using pandas \n",
        "# box plot for Ib column \n",
        "df.boxplot(column=['Ib'])"
      ]
    },
    {
      "cell_type": "code",
      "execution_count": 19,
      "metadata": {
        "colab": {
          "base_uri": "https://localhost:8080/",
          "height": 283
        },
        "id": "rJQv1P0hDDe2",
        "outputId": "c6be47c7-6282-4a63-a61a-c9b7bd24efa1"
      },
      "outputs": [
        {
          "output_type": "execute_result",
          "data": {
            "text/plain": [
              "<matplotlib.axes._subplots.AxesSubplot at 0x7f354c21e810>"
            ]
          },
          "metadata": {},
          "execution_count": 19
        },
        {
          "output_type": "display_data",
          "data": {
            "image/png": "[encoded data removed]",
            "text/plain": [
              "<Figure size 432x288 with 1 Axes>"
            ]
          },
          "metadata": {
            "needs_background": "light"
          }
        }
      ],
      "source": [
        "# box plot using pandas \n",
        "# box plot for Ic column \n",
        "\n",
        "df.boxplot(column=['Ic'])"
      ]
    },
    {
      "cell_type": "code",
      "execution_count": 20,
      "metadata": {
        "colab": {
          "base_uri": "https://localhost:8080/",
          "height": 283
        },
        "id": "26iWjxk3DDdf",
        "outputId": "c0ff5e8d-7e99-4d32-a4c4-92aef0f85ace"
      },
      "outputs": [
        {
          "output_type": "execute_result",
          "data": {
            "text/plain": [
              "<matplotlib.axes._subplots.AxesSubplot at 0x7f354c190990>"
            ]
          },
          "metadata": {},
          "execution_count": 20
        },
        {
          "output_type": "display_data",
          "data": {
            "image/png": "[encoded data removed]",
            "text/plain": [
              "<Figure size 432x288 with 1 Axes>"
            ]
          },
          "metadata": {
            "needs_background": "light"
          }
        }
      ],
      "source": [
        "# box plot using pandas \n",
        "# box plot for Va column \n",
        "df.boxplot(column=['Va'])"
      ]
    },
    {
      "cell_type": "code",
      "execution_count": 21,
      "metadata": {
        "colab": {
          "base_uri": "https://localhost:8080/",
          "height": 283
        },
        "id": "OqafrG7oDDa8",
        "outputId": "e7453da8-6e13-4874-b0da-643f2f6f43e1"
      },
      "outputs": [
        {
          "output_type": "execute_result",
          "data": {
            "text/plain": [
              "<matplotlib.axes._subplots.AxesSubplot at 0x7f354c0ff490>"
            ]
          },
          "metadata": {},
          "execution_count": 21
        },
        {
          "output_type": "display_data",
          "data": {
            "image/png": "[encoded data removed]",
            "text/plain": [
              "<Figure size 432x288 with 1 Axes>"
            ]
          },
          "metadata": {
            "needs_background": "light"
          }
        }
      ],
      "source": [
        "# box plot using pandas \n",
        "# box plot for Vb column \n",
        "df.boxplot(column=['Vb'])\n",
        "\n"
      ]
    },
    {
      "cell_type": "code",
      "execution_count": 22,
      "metadata": {
        "colab": {
          "base_uri": "https://localhost:8080/",
          "height": 283
        },
        "id": "k0ZMrofFDDYt",
        "outputId": "c4155e54-c90d-49d6-ac9f-06af90afb199"
      },
      "outputs": [
        {
          "output_type": "execute_result",
          "data": {
            "text/plain": [
              "<matplotlib.axes._subplots.AxesSubplot at 0x7f354c0d03d0>"
            ]
          },
          "metadata": {},
          "execution_count": 22
        },
        {
          "output_type": "display_data",
          "data": {
            "image/png": "[encoded data removed]",
            "text/plain": [
              "<Figure size 432x288 with 1 Axes>"
            ]
          },
          "metadata": {
            "needs_background": "light"
          }
        }
      ],
      "source": [
        "# box plot using pandas \n",
        "# box plot for Vc column \n",
        "\n",
        "df.boxplot(column=['Vc'])"
      ]
    },
    {
      "cell_type": "markdown",
      "metadata": {
        "id": "jh9Q36xXZAeq"
      },
      "source": [
        "Dataset is balanced and not skewed in nature"
      ]
    },
    {
      "cell_type": "markdown",
      "metadata": {
        "id": "VoN41RlaUG_Y"
      },
      "source": [
        "# Dendrogram"
      ]
    },
    {
      "cell_type": "code",
      "execution_count": 23,
      "metadata": {
        "colab": {
          "base_uri": "https://localhost:8080/",
          "height": 541
        },
        "id": "_r5MsTqWDDU-",
        "outputId": "7844a537-f410-4f92-e4c0-3b5d20a81921"
      },
      "outputs": [
        {
          "output_type": "execute_result",
          "data": {
            "text/plain": [
              "{'color_list': ['g', 'g', 'g', 'b', 'b', 'b'],\n",
              " 'dcoord': [[0.0, 65.34596130795325, 65.34596130795325, 0.0],\n",
              "  [0.0, 67.01415633607897, 67.01415633607897, 65.34596130795325],\n",
              "  [0.0, 82.52986099383631, 82.52986099383631, 67.01415633607897],\n",
              "  [0.0, 33168.56031083497, 33168.56031083497, 82.52986099383631],\n",
              "  [0.0, 39264.19660404491, 39264.19660404491, 33168.56031083497],\n",
              "  [0.0, 41317.224275036024, 41317.224275036024, 39264.19660404491]],\n",
              " 'icoord': [[55.0, 55.0, 65.0, 65.0],\n",
              "  [45.0, 45.0, 60.0, 60.0],\n",
              "  [35.0, 35.0, 52.5, 52.5],\n",
              "  [25.0, 25.0, 43.75, 43.75],\n",
              "  [15.0, 15.0, 34.375, 34.375],\n",
              "  [5.0, 5.0, 24.6875, 24.6875]],\n",
              " 'ivl': ['Ia', 'Ib', 'Ic', 'Output (S)', 'Vb', 'Va', 'Vc'],\n",
              " 'leaves': [1, 2, 3, 0, 5, 4, 6]}"
            ]
          },
          "metadata": {},
          "execution_count": 23
        },
        {
          "output_type": "display_data",
          "data": {
            "image/png": "[encoded data removed]",
            "text/plain": [
              "<Figure size 432x288 with 1 Axes>"
            ]
          },
          "metadata": {
            "needs_background": "light"
          }
        }
      ],
      "source": [
        "# Plot a Dendrogram on the columns of the dataset\n",
        "X = df.T.values #Transpose values \n",
        "Y = pdist(X)\n",
        "Z = linkage(Y)\n",
        "dendrogram(Z, labels = df.columns)"
      ]
    },
    {
      "cell_type": "markdown",
      "metadata": {
        "id": "iNvxoKcNUX3H"
      },
      "source": [
        "# Preprocessing, Modeling and prediction on test data"
      ]
    },
    {
      "cell_type": "code",
      "execution_count": 24,
      "metadata": {
        "colab": {
          "base_uri": "https://localhost:8080/"
        },
        "id": "all5bN2N-fou",
        "outputId": "a9c9ff91-a982-43a2-ba2a-3bf904bff638"
      },
      "outputs": [
        {
          "output_type": "stream",
          "name": "stdout",
          "text": [
            "(12001, 6)\n",
            "(12001,)\n"
          ]
        }
      ],
      "source": [
        "## Split the labels and the target\n",
        "Y=df.iloc[:,0]\n",
        "X=df.iloc[:,1:]\n",
        "\n",
        "#check the shape \n",
        "print(X.shape)\n",
        "print(Y.shape)"
      ]
    },
    {
      "cell_type": "code",
      "execution_count": 25,
      "metadata": {
        "colab": {
          "base_uri": "https://localhost:8080/"
        },
        "id": "6-r_W-3k-flM",
        "outputId": "341dbf15-cf10-4019-9d25-2f803d44540b"
      },
      "outputs": [
        {
          "output_type": "stream",
          "name": "stdout",
          "text": [
            "(9600, 6) (9600,)\n",
            "(2401, 6) (2401,)\n"
          ]
        }
      ],
      "source": [
        "# import train test split\n",
        "from sklearn.model_selection import train_test_split\n",
        "# Splitting into training (80%) and testing set (20%)\n",
        "X_train, X_test, y_train,y_test = train_test_split(X, Y, test_size=.20, random_state=42)\n",
        "\n",
        "# checking shape of X_train and y_train\n",
        "print(X_train.shape,y_train.shape)\n",
        "\n",
        "# checking shape of X_test and y_test\n",
        "print(X_test.shape,y_test.shape)"
      ]
    },
    {
      "cell_type": "markdown",
      "metadata": {
        "id": "JZ5YmmuoUk_8"
      },
      "source": [
        "### Scaling"
      ]
    },
    {
      "cell_type": "code",
      "execution_count": 26,
      "metadata": {
        "id": "HQmvIGL8-fj_"
      },
      "outputs": [],
      "source": [
        "# import min max scalar\n",
        "from sklearn.preprocessing import MinMaxScaler\n",
        "# Instantiate t\n",
        "scaled = MinMaxScaler()\n",
        "\n",
        "# fit on train data\n",
        "X_train = scaled.fit_transform(X_train)\n",
        "# fit on test data\n",
        "X_test = scaled.transform(X_test)"
      ]
    },
    {
      "cell_type": "code",
      "execution_count": 27,
      "metadata": {
        "id": "UZCxM1BcwbFT"
      },
      "outputs": [],
      "source": [
        "# Visualizing importance of all the features in the dataset for the prediction\n",
        "#didnt use\n",
        "def visualize_importance(feature_importances, feat_train_df):\n",
        "    \n",
        "    # creating dataframe for feature name and feature importance\n",
        "    feature_importance_df = pd.DataFrame()\n",
        "\n",
        "    _df = pd.DataFrame()\n",
        "    _df['feature_importance'] = feature_importances\n",
        "    _df['column'] = feat_train_df.columns\n",
        "    feature_importance_df = pd.concat([feature_importance_df, _df], \n",
        "                                      axis=0, ignore_index=True)\n",
        "\n",
        "    # grouping all data and sorting in descending order\n",
        "    order = feature_importance_df.groupby('column')\\\n",
        "        .sum()[['feature_importance']]\\\n",
        "        .sort_values('feature_importance', ascending=False).index[:50]\n",
        "    \n",
        "    # ploting feature importance data using boxenplot\n",
        "    fig, ax = plt.subplots(figsize=(8, max(6, len(order) * .25)))\n",
        "    sns.boxenplot(data=feature_importance_df, \n",
        "                  x='feature_importance', \n",
        "                  y='column', \n",
        "                  order=order, \n",
        "                  ax=ax, \n",
        "                  palette='viridis', \n",
        "                  orient='h')\n",
        "    ax.tick_params(axis='x', rotation=0)\n",
        "    ax.set_title('Importance')\n",
        "    ax.grid()\n",
        "    fig.tight_layout()\n",
        "    return fig, ax"
      ]
    },
    {
      "cell_type": "code",
      "execution_count": 28,
      "metadata": {
        "id": "D10N3U1lLxQB"
      },
      "outputs": [],
      "source": [
        "# importing accuracy_score, precision_score, precision_score, confusion_matrix\n",
        "from sklearn.metrics import precision_score,recall_score, confusion_matrix, classification_report,accuracy_score, f1_score"
      ]
    },
    {
      "cell_type": "markdown",
      "metadata": {
        "id": "TX3S-qx5Uvzq"
      },
      "source": [
        "## LogisticRegression"
      ]
    },
    {
      "cell_type": "code",
      "execution_count": 29,
      "metadata": {
        "colab": {
          "base_uri": "https://localhost:8080/",
          "height": 636
        },
        "id": "z8IKjUjhwbAt",
        "outputId": "be63a341-018b-42fb-cc63-218652adf657"
      },
      "outputs": [
        {
          "output_type": "stream",
          "name": "stdout",
          "text": [
            "Accuracy: 0.7338608912952936\n",
            "F1 score: 0.5880077369439072\n",
            "Recall: 0.41643835616438357\n",
            "Precision: 1.0\n",
            "\n",
            " clasification report:\n",
            "               precision    recall  f1-score   support\n",
            "\n",
            "           0       0.67      1.00      0.80      1306\n",
            "           1       1.00      0.42      0.59      1095\n",
            "\n",
            "    accuracy                           0.73      2401\n",
            "   macro avg       0.84      0.71      0.70      2401\n",
            "weighted avg       0.82      0.73      0.71      2401\n",
            "\n",
            "\n",
            " confussion matrix:\n",
            " [[1306    0]\n",
            " [ 639  456]]\n"
          ]
        },
        {
          "output_type": "execute_result",
          "data": {
            "text/plain": [
              "<matplotlib.axes._subplots.AxesSubplot at 0x7f3540da70d0>"
            ]
          },
          "metadata": {},
          "execution_count": 29
        },
        {
          "output_type": "display_data",
          "data": {
            "image/png": "[encoded data removed]",
            "text/plain": [
              "<Figure size 432x288 with 2 Axes>"
            ]
          },
          "metadata": {}
        }
      ],
      "source": [
        "\n",
        "#A logistic Regression model to the train dataset\n",
        "\n",
        "# Import logisticRegressor\n",
        "from sklearn.linear_model import LogisticRegression\n",
        "\n",
        "# Instantiate the model\n",
        "lr=LogisticRegression()\n",
        "\n",
        "# fitting the model on train data\n",
        "lr.fit(X_train,y_train)\n",
        "\n",
        "#predict on test data\n",
        "prediction=lr.predict(X_test)\n",
        "importance = lr.coef_[0]\n",
        "# print accuracy_score,precision_score,precision_score,confusion_matrix\n",
        "print ('Accuracy:', accuracy_score(y_test, prediction))\n",
        "print ('F1 score:', f1_score(y_test, prediction))\n",
        "print ('Recall:', recall_score(y_test, prediction))\n",
        "print ('Precision:', precision_score(y_test, prediction))\n",
        "print ('\\n clasification report:\\n', classification_report(y_test,prediction))\n",
        "print ('\\n confussion matrix:\\n',confusion_matrix(y_test, prediction))\n",
        "\n",
        "\n",
        "# display confusion matrix\n",
        "cm=confusion_matrix(y_test,prediction)\n",
        "sns.set(font_scale=1.4) # for label size\n",
        "sns.heatmap(cm, annot=True, annot_kws={\"size\": 16}) # font size\n"
      ]
    },
    {
      "cell_type": "markdown",
      "metadata": {
        "id": "jMuXcH7vU0lG"
      },
      "source": [
        "## RandomForestClassifier"
      ]
    },
    {
      "cell_type": "code",
      "execution_count": 30,
      "metadata": {
        "colab": {
          "base_uri": "https://localhost:8080/",
          "height": 636
        },
        "id": "orHP9CXNwa_b",
        "outputId": "5b471755-0e45-4e80-f080-f1d1e72406ac"
      },
      "outputs": [
        {
          "output_type": "stream",
          "name": "stdout",
          "text": [
            "Accuracy: 0.9979175343606831\n",
            "F1 score: 0.9977200182398541\n",
            "Recall: 0.9990867579908675\n",
            "Precision: 0.9963570127504554\n",
            "\n",
            " clasification report:\n",
            "               precision    recall  f1-score   support\n",
            "\n",
            "           0       1.00      1.00      1.00      1306\n",
            "           1       1.00      1.00      1.00      1095\n",
            "\n",
            "    accuracy                           1.00      2401\n",
            "   macro avg       1.00      1.00      1.00      2401\n",
            "weighted avg       1.00      1.00      1.00      2401\n",
            "\n",
            "\n",
            " confussion matrix:\n",
            " [[1302    4]\n",
            " [   1 1094]]\n"
          ]
        },
        {
          "output_type": "execute_result",
          "data": {
            "text/plain": [
              "<matplotlib.axes._subplots.AxesSubplot at 0x7f353d5b0950>"
            ]
          },
          "metadata": {},
          "execution_count": 30
        },
        {
          "output_type": "display_data",
          "data": {
            "image/png": "[encoded data removed]",
            "text/plain": [
              "<Figure size 432x288 with 2 Axes>"
            ]
          },
          "metadata": {}
        }
      ],
      "source": [
        "#%%time\n",
        "#A RandomForestClassifier model to the train dataset\n",
        "from sklearn.ensemble import RandomForestClassifier\n",
        "#import RandomForestClassifier\n",
        "\n",
        "\n",
        "# Instantiate the model\n",
        "Rm=RandomForestClassifier(random_state=0)\n",
        "\n",
        "# fitting the model on train data\n",
        "Rm.fit(X_train,y_train)\n",
        "\n",
        "# predict on test data\n",
        "prediction=Rm.predict(X_test)\n",
        "importance = Rm.feature_importances_\n",
        "# print accuracy_score,precision_score,precision_score,confusion_matrix\n",
        "print ('Accuracy:', accuracy_score(y_test, prediction))\n",
        "print ('F1 score:', f1_score(y_test, prediction))\n",
        "print ('Recall:', recall_score(y_test, prediction))\n",
        "print ('Precision:', precision_score(y_test, prediction))\n",
        "print ('\\n clasification report:\\n', classification_report(y_test,prediction))\n",
        "print ('\\n confussion matrix:\\n',confusion_matrix(y_test, prediction))\n",
        "# display confusion matrix\n",
        "cm=confusion_matrix(y_test,prediction)\n",
        "sns.set(font_scale=1.4) # for label size\n",
        "sns.heatmap(cm, annot=True, annot_kws={\"size\": 16}) # font size\n",
        "\n",
        "\n"
      ]
    },
    {
      "cell_type": "markdown",
      "metadata": {
        "id": "boAQ9dIRU3Xd"
      },
      "source": [
        "## DecisionTreeClassifier"
      ]
    },
    {
      "cell_type": "code",
      "execution_count": 31,
      "metadata": {
        "colab": {
          "base_uri": "https://localhost:8080/",
          "height": 655
        },
        "id": "Hc3mwALPwa7-",
        "outputId": "13a5c80a-fbd8-4363-e6a5-370215606e2f"
      },
      "outputs": [
        {
          "output_type": "stream",
          "name": "stdout",
          "text": [
            "Accuracy: 0.9958350687213661\n",
            "F1 score: 0.9954379562043796\n",
            "Recall: 0.9963470319634703\n",
            "Precision: 0.9945305378304466\n",
            "\n",
            " clasification report:\n",
            "               precision    recall  f1-score   support\n",
            "\n",
            "           0       1.00      1.00      1.00      1306\n",
            "           1       0.99      1.00      1.00      1095\n",
            "\n",
            "    accuracy                           1.00      2401\n",
            "   macro avg       1.00      1.00      1.00      2401\n",
            "weighted avg       1.00      1.00      1.00      2401\n",
            "\n",
            "\n",
            " confussion matrix:\n",
            " [[1300    6]\n",
            " [   4 1091]]\n",
            "CPU times: user 195 ms, sys: 54.6 ms, total: 250 ms\n",
            "Wall time: 188 ms\n"
          ]
        },
        {
          "output_type": "display_data",
          "data": {
            "image/png": "[encoded data removed]",
            "text/plain": [
              "<Figure size 432x288 with 2 Axes>"
            ]
          },
          "metadata": {}
        }
      ],
      "source": [
        "%%time\n",
        "#A DecisionTreeClassifier model to the train dataset\n",
        "\n",
        "#import DecisionTreeClassifier\n",
        "from sklearn.tree import DecisionTreeClassifier\n",
        "\n",
        "# Instantiate the model\n",
        "Dt=DecisionTreeClassifier()\n",
        "\n",
        "# fitting the model on train data\n",
        "Dt.fit(X_train,y_train)\n",
        "\n",
        "# predict on test data\n",
        "prediction=Dt.predict(X_test)\n",
        "importance = Dt.feature_importances_\n",
        "# print accuracy_score,precision_score,precision_score,confusion_matrix\n",
        "print ('Accuracy:', accuracy_score(y_test, prediction))\n",
        "print ('F1 score:', f1_score(y_test, prediction))\n",
        "print ('Recall:', recall_score(y_test, prediction))\n",
        "print ('Precision:', precision_score(y_test, prediction))\n",
        "print ('\\n clasification report:\\n', classification_report(y_test,prediction))\n",
        "print ('\\n confussion matrix:\\n',confusion_matrix(y_test, prediction))\n",
        "# display confusion matrix\n",
        "cm=confusion_matrix(y_test,prediction)\n",
        "sns.set(font_scale=1.4) # for label size\n",
        "sns.heatmap(cm, annot=True, annot_kws={\"size\": 16}) # font size\n",
        "\n",
        "\n",
        "\n"
      ]
    },
    {
      "cell_type": "markdown",
      "metadata": {
        "id": "GManaGfgU7io"
      },
      "source": [
        "## GradientBoostingClassifier"
      ]
    },
    {
      "cell_type": "code",
      "execution_count": 32,
      "metadata": {
        "colab": {
          "base_uri": "https://localhost:8080/",
          "height": 655
        },
        "id": "yDuLFGFEwa6i",
        "outputId": "54d76cd9-ded8-4b7f-d552-d24b831bd5b4"
      },
      "outputs": [
        {
          "output_type": "stream",
          "name": "stdout",
          "text": [
            "Accuracy: 0.9979175343606831\n",
            "F1 score: 0.9977200182398541\n",
            "Recall: 0.9990867579908675\n",
            "Precision: 0.9963570127504554\n",
            "\n",
            " clasification report:\n",
            "               precision    recall  f1-score   support\n",
            "\n",
            "           0       1.00      1.00      1.00      1306\n",
            "           1       1.00      1.00      1.00      1095\n",
            "\n",
            "    accuracy                           1.00      2401\n",
            "   macro avg       1.00      1.00      1.00      2401\n",
            "weighted avg       1.00      1.00      1.00      2401\n",
            "\n",
            "\n",
            " confussion matrix:\n",
            " [[1302    4]\n",
            " [   1 1094]]\n",
            "CPU times: user 2.21 s, sys: 60.4 ms, total: 2.27 s\n",
            "Wall time: 2.19 s\n"
          ]
        },
        {
          "output_type": "display_data",
          "data": {
            "image/png": "[encoded data removed]",
            "text/plain": [
              "<Figure size 432x288 with 2 Axes>"
            ]
          },
          "metadata": {}
        }
      ],
      "source": [
        "%%time\n",
        "# A Gradient Boosting Classifier model to the train dataset\n",
        "\n",
        "# Import GradientBoostingClassifier\n",
        "from sklearn.ensemble import GradientBoostingClassifier\n",
        "\n",
        "# Instantiate the model\n",
        "\n",
        "Gbc=GradientBoostingClassifier()\n",
        "# fitting the model on train data\n",
        "Gbc.fit(X_train,y_train)\n",
        "\n",
        "# predict on test data\n",
        "prediction=Gbc.predict(X_test)\n",
        "#importance = Gbc.feature_importances_\n",
        "# print accuracy_score,precision_score,precision_score,confusion_matrix\n",
        "print ('Accuracy:', accuracy_score(y_test, prediction))\n",
        "print ('F1 score:', f1_score(y_test, prediction))\n",
        "print ('Recall:', recall_score(y_test, prediction))\n",
        "print ('Precision:', precision_score(y_test, prediction))\n",
        "print ('\\n clasification report:\\n', classification_report(y_test,prediction))\n",
        "print ('\\n confussion matrix:\\n',confusion_matrix(y_test, prediction))\n",
        "# display confusion matrix\n",
        "cm=confusion_matrix(y_test,prediction)\n",
        "sns.set(font_scale=1.4) # for label size\n",
        "sns.heatmap(cm, annot=True, annot_kws={\"size\": 16}) # font size\n",
        "\n",
        "\n"
      ]
    },
    {
      "cell_type": "markdown",
      "metadata": {
        "id": "h-SaINO6YrZe"
      },
      "source": [
        "## Hyper parameter tunning\n",
        "\n",
        "A hyperparameter is a parameter whose value is set before the learning process begins.\n",
        "\n",
        "Hyperparameters tuning is crucial as they control the overall behavior of a machine learning model.\n",
        "\n",
        "Every machine learning models will have different hyperparameters that can be set.\n",
        "\n",
        "###RandomizedSearchCV\n",
        "\n",
        "RandomizedSearchCV is very useful when we have many parameters to try and the training time is very long.\n",
        "\n",
        "1. The first step is to write the parameters that we want to consider\n",
        "2. From these parameters select the best ones.(which are printed in output)"
      ]
    },
    {
      "cell_type": "code",
      "execution_count": 37,
      "metadata": {
        "id": "NOC29Wj5YbCO"
      },
      "outputs": [],
      "source": [
        "# Helper function to perform hyper parameter tunning with RandomizedSearchCV\n",
        "def random_Search(model,X_train, Y_train,param_grid):\n",
        "  from sklearn.model_selection import RandomizedSearchCV\n",
        "\n",
        "  # Random search of parameters, using 3 fold cross validation, \n",
        "  # search across 100 different combinations, and use all available cores\n",
        "  random = RandomizedSearchCV(estimator = model, param_distributions = param_grid, n_iter = 100, cv = 3, verbose=2, random_state=42, n_jobs = -1)\n",
        "  # Fit the random search model\n",
        "  random.fit(X_train, y_train)\n",
        "  print(random.best_params_)"
      ]
    },
    {
      "cell_type": "code",
      "execution_count": 38,
      "metadata": {
        "id": "XFlw8BdEYcfC",
        "colab": {
          "base_uri": "https://localhost:8080/"
        },
        "outputId": "c71e0285-e2ba-49b6-a73c-2d07b219ebe9"
      },
      "outputs": [
        {
          "output_type": "stream",
          "name": "stdout",
          "text": [
            "Fitting 3 folds for each of 100 candidates, totalling 300 fits\n",
            "{'n_estimators': 1800, 'min_samples_split': 10, 'min_samples_leaf': 1, 'max_features': 'auto', 'max_depth': 80, 'bootstrap': False}\n"
          ]
        }
      ],
      "source": [
        "#%%time\n",
        "# for random forest classifier\n",
        "# create parameters dict for tunning\n",
        "rf_para_grid = {'n_estimators': [int(x) for x in np.linspace(start = 200, stop = 2000, num = 10)],\n",
        "               'max_features': ['auto', 'sqrt'],\n",
        "               'max_depth': [int(x) for x in np.linspace(10, 110, num = 11)],\n",
        "               'min_samples_split': [2, 5, 10],\n",
        "               'min_samples_leaf': [1, 2, 4],\n",
        "               'bootstrap': [True, False],\n",
        "            }\n",
        "\n",
        "# passing data for hyper parameter tunning with Randomized search cv\n",
        "random_Search(RandomForestClassifier(),X_train, y_train, param_grid=rf_para_grid)\n"
      ]
    },
    {
      "cell_type": "markdown",
      "metadata": {
        "id": "cN05dpdgRQO_"
      },
      "source": [
        "### working with best model"
      ]
    },
    {
      "cell_type": "code",
      "execution_count": 41,
      "metadata": {
        "colab": {
          "base_uri": "https://localhost:8080/"
        },
        "id": "vh4AUr77wax5",
        "outputId": "5192f4e5-4df4-41f6-a6df-2768e14ec29e"
      },
      "outputs": [
        {
          "output_type": "execute_result",
          "data": {
            "text/plain": [
              "0.9999531491465453"
            ]
          },
          "metadata": {},
          "execution_count": 41
        }
      ],
      "source": [
        "# print Area under ROC of Model On Test Set\n",
        "from sklearn.metrics import roc_auc_score\n",
        "Rm=RandomForestClassifier(random_state=0,n_estimators=1800, min_samples_split= 10, min_samples_leaf=1, max_features= 'auto', max_depth=80, bootstrap= False)\n",
        "Rm.fit(X_train,y_train)\n",
        "predictions =Rm.predict_proba(X_test)\n",
        "roc_auc_score(y_test,predictions[:,1])"
      ]
    },
    {
      "cell_type": "code",
      "execution_count": 43,
      "metadata": {
        "id": "SkytbPoGwawF",
        "colab": {
          "base_uri": "https://localhost:8080/",
          "height": 206
        },
        "outputId": "cdd88df6-49ec-42d7-da0f-8dad91edd95f"
      },
      "outputs": [
        {
          "output_type": "execute_result",
          "data": {
            "text/html": [
              "\n",
              "  <div id=\"df-009fad4c-8e89-4741-9c06-2145969a0c22\">\n",
              "    <div class=\"colab-df-container\">\n",
              "      <div>\n",
              "<style scoped>\n",
              "    .dataframe tbody tr th:only-of-type {\n",
              "        vertical-align: middle;\n",
              "    }\n",
              "\n",
              "    .dataframe tbody tr th {\n",
              "        vertical-align: top;\n",
              "    }\n",
              "\n",
              "    .dataframe thead th {\n",
              "        text-align: right;\n",
              "    }\n",
              "</style>\n",
              "<table border=\"1\" class=\"dataframe\">\n",
              "  <thead>\n",
              "    <tr style=\"text-align: right;\">\n",
              "      <th></th>\n",
              "      <th>0</th>\n",
              "    </tr>\n",
              "  </thead>\n",
              "  <tbody>\n",
              "    <tr>\n",
              "      <th>0</th>\n",
              "      <td>0</td>\n",
              "    </tr>\n",
              "    <tr>\n",
              "      <th>1</th>\n",
              "      <td>1</td>\n",
              "    </tr>\n",
              "    <tr>\n",
              "      <th>2</th>\n",
              "      <td>0</td>\n",
              "    </tr>\n",
              "    <tr>\n",
              "      <th>3</th>\n",
              "      <td>0</td>\n",
              "    </tr>\n",
              "    <tr>\n",
              "      <th>4</th>\n",
              "      <td>0</td>\n",
              "    </tr>\n",
              "  </tbody>\n",
              "</table>\n",
              "</div>\n",
              "      <button class=\"colab-df-convert\" onclick=\"convertToInteractive('df-009fad4c-8e89-4741-9c06-2145969a0c22')\"\n",
              "              title=\"Convert this dataframe to an interactive table.\"\n",
              "              style=\"display:none;\">\n",
              "        \n",
              "  <svg xmlns=\"http://www.w3.org/2000/svg\" height=\"24px\"viewBox=\"0 0 24 24\"\n",
              "       width=\"24px\">\n",
              "    <path d=\"M0 0h24v24H0V0z\" fill=\"none\"/>\n",
              "    <path d=\"M18.56 5.44l.94 2.06.94-2.06 2.06-.94-2.06-.94-.94-2.06-.94 2.06-2.06.94zm-11 1L8.5 8.5l.94-2.06 2.06-.94-2.06-.94L8.5 2.5l-.94 2.06-2.06.94zm10 10l.94 2.06.94-2.06 2.06-.94-2.06-.94-.94-2.06-.94 2.06-2.06.94z\"/><path d=\"M17.41 7.96l-1.37-1.37c-.4-.4-.92-.59-1.43-.59-.52 0-1.04.2-1.43.59L10.3 9.45l-7.72 7.72c-.78.78-.78 2.05 0 2.83L4 21.41c.39.39.9.59 1.41.59.51 0 1.02-.2 1.41-.59l7.78-7.78 2.81-2.81c.8-.78.8-2.07 0-2.86zM5.41 20L4 18.59l7.72-7.72 1.47 1.35L5.41 20z\"/>\n",
              "  </svg>\n",
              "      </button>\n",
              "      \n",
              "  <style>\n",
              "    .colab-df-container {\n",
              "      display:flex;\n",
              "      flex-wrap:wrap;\n",
              "      gap: 12px;\n",
              "    }\n",
              "\n",
              "    .colab-df-convert {\n",
              "      background-color: #E8F0FE;\n",
              "      border: none;\n",
              "      border-radius: 50%;\n",
              "      cursor: pointer;\n",
              "      display: none;\n",
              "      fill: #1967D2;\n",
              "      height: 32px;\n",
              "      padding: 0 0 0 0;\n",
              "      width: 32px;\n",
              "    }\n",
              "\n",
              "    .colab-df-convert:hover {\n",
              "      background-color: #E2EBFA;\n",
              "      box-shadow: 0px 1px 2px rgba(60, 64, 67, 0.3), 0px 1px 3px 1px rgba(60, 64, 67, 0.15);\n",
              "      fill: #174EA6;\n",
              "    }\n",
              "\n",
              "    [theme=dark] .colab-df-convert {\n",
              "      background-color: #3B4455;\n",
              "      fill: #D2E3FC;\n",
              "    }\n",
              "\n",
              "    [theme=dark] .colab-df-convert:hover {\n",
              "      background-color: #434B5C;\n",
              "      box-shadow: 0px 1px 3px 1px rgba(0, 0, 0, 0.15);\n",
              "      filter: drop-shadow(0px 1px 2px rgba(0, 0, 0, 0.3));\n",
              "      fill: #FFFFFF;\n",
              "    }\n",
              "  </style>\n",
              "\n",
              "      <script>\n",
              "        const buttonEl =\n",
              "          document.querySelector('#df-009fad4c-8e89-4741-9c06-2145969a0c22 button.colab-df-convert');\n",
              "        buttonEl.style.display =\n",
              "          google.colab.kernel.accessAllowed ? 'block' : 'none';\n",
              "\n",
              "        async function convertToInteractive(key) {\n",
              "          const element = document.querySelector('#df-009fad4c-8e89-4741-9c06-2145969a0c22');\n",
              "          const dataTable =\n",
              "            await google.colab.kernel.invokeFunction('convertToInteractive',\n",
              "                                                     [key], {});\n",
              "          if (!dataTable) return;\n",
              "\n",
              "          const docLinkHtml = 'Like what you see? Visit the ' +\n",
              "            '<a target=\"_blank\" href=https://colab.research.google.com/notebooks/data_table.ipynb>data table notebook</a>'\n",
              "            + ' to learn more about interactive tables.';\n",
              "          element.innerHTML = '';\n",
              "          dataTable['output_type'] = 'display_data';\n",
              "          await google.colab.output.renderOutput(dataTable, element);\n",
              "          const docLink = document.createElement('div');\n",
              "          docLink.innerHTML = docLinkHtml;\n",
              "          element.appendChild(docLink);\n",
              "        }\n",
              "      </script>\n",
              "    </div>\n",
              "  </div>\n",
              "  "
            ],
            "text/plain": [
              "   0\n",
              "0  0\n",
              "1  1\n",
              "2  0\n",
              "3  0\n",
              "4  0"
            ]
          },
          "metadata": {},
          "execution_count": 43
        }
      ],
      "source": [
        "# Create a dataframe with predicted result as data using best model\n",
        "\n",
        "y_pred=Rm.predict(X_test)\n",
        "y_pred=pd.DataFrame(y_pred)\n",
        "y_pred.head()"
      ]
    },
    {
      "cell_type": "markdown",
      "metadata": {
        "id": "RG9uGYSFX65g"
      },
      "source": [
        "# Conclusion\n",
        "\n",
        "According to this model, the predicted value we got, matches with the actual target values. The model is performing well.  We have performed EDA, preprocessing, build different models, visualized feature importance, did hyper parameter tunning and did prediction."
      ]
    }
  ],
  "metadata": {
    "colab": {
      "collapsed_sections": [],
      "name": "Electrical_Fault_detection.ipynb",
      "provenance": []
    },
    "kernelspec": {
      "display_name": "Python 3",
      "language": "python",
      "name": "python3"
    },
    "language_info": {
      "codemirror_mode": {
        "name": "ipython",
        "version": 3
      },
      "file_extension": ".py",
      "mimetype": "text/x-python",
      "name": "python",
      "nbconvert_exporter": "python",
      "pygments_lexer": "ipython3",
      "version": "3.7.6"
    },
    "accelerator": "GPU"
  },
  "nbformat": 4,
  "nbformat_minor": 0
}